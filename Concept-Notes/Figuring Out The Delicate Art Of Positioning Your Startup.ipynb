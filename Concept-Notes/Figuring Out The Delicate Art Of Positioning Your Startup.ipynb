{
 "cells": [
  {
   "cell_type": "markdown",
   "metadata": {},
   "source": [
    "* marketing is highly tactical, there are frameworks and steps to take\n",
    "    * define what company is doing\n",
    "    * why important\n",
    "    * why people should listen to them\n",
    "* positioning is a statement - defines what problem you are solving and why soln is compelling\n",
    "* positioning is internal, but it's imporatnt\n",
    "    * align teams\n",
    "    * hire right ppl\n",
    "    * develop best product\n",
    "    * communicating value of work"
   ]
  },
  {
   "cell_type": "markdown",
   "metadata": {},
   "source": [
    "### Positioning\n",
    "* For \n",
    "* Who (need or opportunity)\n",
    "* (product name) is a (product category)\n",
    "* that (statement of benefit)\n",
    "* unlike (competitive alternative)\n",
    "* (product name) (statement of primary differentiation)"
   ]
  },
  {
   "cell_type": "markdown",
   "metadata": {},
   "source": [
    "* The goal isn’t to use this statement verbatim in your marketing or advertising, but to get people inside the company excited and on the same page about why your idea is special and going to help people attain something they want."
   ]
  },
  {
   "cell_type": "markdown",
   "metadata": {},
   "source": [
    "### Picking name\n",
    "* Descriptive: Fairly explicit about what your business is and does. Examples include WholeFoods, Toys “R” Us and PayPal.\n",
    "* Suggestive: Evokes or suggests what your business or product is about, often via metaphor. Examples include Amazon, which suggests a giant river/huge selection, and Mint, where money is created.\n",
    "* Fanciful: Has nothing directly to do with your company’s offering. Examples include Adobe and Apple."
   ]
  },
  {
   "cell_type": "markdown",
   "metadata": {},
   "source": [
    "“A good way to see the difference here is to look at web browsers,” says Jackson. “Internet Explorer is about as descriptive as you can get. Safari is suggestive, connoting this idea of exploration, and then you have FireFox, which has absolutely nothing to do with the internet.”"
   ]
  },
  {
   "cell_type": "markdown",
   "metadata": {},
   "source": [
    "1. create 3 buckets for descriptive, suggestive and fanciful names\n",
    "2. take positioning statement and break it into nouns and verbs\n",
    "    * make lists of synonyms\n",
    "3. try combinations and tweeks\n",
    "    * real words - repurposed words (apple, gain, square)\n",
    "    * compounds - (salesforce, facebook)\n",
    "    * blends - parts of words mixed with each other (pinterest, microsoft)\n",
    "    * affixes - tack on something, like er or ly (blogger, contently)\n",
    "    * truncations - shorten a word or concept (San Francisco)\n",
    "    * other languages - words that mean or suggest what want (reebook, asana)\n",
    "\n",
    "4. take it then see how it resonates with other ppl"
   ]
  },
  {
   "cell_type": "markdown",
   "metadata": {},
   "source": [
    "messaging: \n",
    "* SOCO (Single Overriding Communications Objective): Whether you’re developing a brand identity or campaign work or a video, you want to be able to articulate the one most important thing you want the work to communicate. Just one thing. Know it by heart.\n",
    "* SOCA (Single Overriding Communications Avoidance): The complete opposite of your SOCO, this is the one thing that is the most important for you to avoid communicating. What is the one message, weakness, problem or liability that you absolutely don’t want users or the press to hear? Everyone who may be talking about your product for your company should have your SOCA firmly in mind."
   ]
  },
  {
   "cell_type": "markdown",
   "metadata": {},
   "source": []
  }
 ],
 "metadata": {
  "kernelspec": {
   "display_name": "Python 2",
   "language": "python",
   "name": "python2"
  },
  "language_info": {
   "codemirror_mode": {
    "name": "ipython",
    "version": 2
   },
   "file_extension": ".py",
   "mimetype": "text/x-python",
   "name": "python",
   "nbconvert_exporter": "python",
   "pygments_lexer": "ipython2",
   "version": "2.7.13"
  }
 },
 "nbformat": 4,
 "nbformat_minor": 2
}
