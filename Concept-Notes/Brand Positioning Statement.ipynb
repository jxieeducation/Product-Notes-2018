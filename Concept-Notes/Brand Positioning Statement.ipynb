{
 "cells": [
  {
   "cell_type": "markdown",
   "metadata": {},
   "source": [
    "* fundamentals of marketing are built on the fact that ppl have different likes and tastes\n",
    "* The positioning statement is a short written document that lays out how the marketer believes others should think, feel, and relate to the brand. \n",
    "* The central idea is to make sure the customer plays an active role in positioning development—think of it as a type of relationship-building exercise with consumers. What does the target group identify as its current needs, and how can the brand meet those needs? Lean more toward the customers and less toward the brand"
   ]
  },
  {
   "cell_type": "markdown",
   "metadata": {},
   "source": [
    "* positioning should be developed before all marketing strategies"
   ]
  },
  {
   "cell_type": "markdown",
   "metadata": {},
   "source": [
    "* brand statement\n",
    "* To \"target grp\", \"brand name\", is the brand of \"competitive framework\" that \"point of differentiation\" because \"why\". The Brand character is \"\"\n",
    "    * To professionals looking to switch to a new field, Kickserve is a platform that provides pro-bono startup opportunities, as opposed to freelancing and side projects, because Kickserve provides professional experiences\n",
    "    * To startups looking to explore a new project, Kickserve is a platform that provides free and quality help, as opposed to freelancing and hiring someone new, because the barrier to entry is lower"
   ]
  },
  {
   "cell_type": "markdown",
   "metadata": {},
   "source": []
  },
  {
   "cell_type": "markdown",
   "metadata": {},
   "source": []
  },
  {
   "cell_type": "markdown",
   "metadata": {},
   "source": []
  }
 ],
 "metadata": {
  "kernelspec": {
   "display_name": "Python 2",
   "language": "python",
   "name": "python2"
  },
  "language_info": {
   "codemirror_mode": {
    "name": "ipython",
    "version": 2
   },
   "file_extension": ".py",
   "mimetype": "text/x-python",
   "name": "python",
   "nbconvert_exporter": "python",
   "pygments_lexer": "ipython2",
   "version": "2.7.13"
  }
 },
 "nbformat": 4,
 "nbformat_minor": 2
}
