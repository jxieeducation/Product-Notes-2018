{
 "cells": [
  {
   "cell_type": "markdown",
   "metadata": {},
   "source": [
    "### Building strong customer loyalty\n",
    "* marketing b2b has challenges - fewer customers, more complicated decision making, more diverse pricing, more pressure to justify pricing, longer decisions\n",
    "* why is it more important\n",
    "    * more multileveled purchasing decision\n",
    "    * B2b comapnies operate in a more complex world \n",
    "        * segmenting and prioritizing ideal customers \n",
    "    * offer more than product expertise\n",
    "        * True product differentiation is scant in the B2C world, which forces marketers to rely more on special brand positioning to create a strategic leverage and a high-value perception.\n",
    "        * can also work in B2b\n",
    "        * emotional connection"
   ]
  },
  {
   "cell_type": "markdown",
   "metadata": {},
   "source": [
    "### A more compelling Value Proposition\n",
    "* value = benefit / price\n",
    "* value proposition\n",
    "    * It is a clear statement about the tangible business results customers can get from using your product, service or solution. Busy decision-makers don’t care about what you’re selling. They only care about what it does for them.\n",
    "* how to identify opportunities for improvements\n",
    "    * Why do people buy from our company in the first place? What value do they seek? Expect? Hope for?\n",
    "    * What are we doing to meet their expectations? What are we not doing?\n",
    "    * What are the customer’s true “pain points” or problems?\n",
    "    * What is our “niche/specialization” or area of excellence? Do customers recognize this?\n",
    "    * How do customers actually think and talk about our business? What must they be convinced of to start buying from my company?\n",
    "    * What can I change or add to my value proposition to cause my customers to say, “I would have to be crazy to do business with someone else?”"
   ]
  },
  {
   "cell_type": "markdown",
   "metadata": {},
   "source": [
    "### How value pricing can prevent perceptions of commoditization\n",
    "* use value - value pricing, instead of cost pricing, historical pricing, competitive pricing...etc.\n",
    "* ways to fight commoditization\n",
    "    * deliver value \n",
    "    * foster long lasting connections\n",
    "    * capture value, measure results"
   ]
  },
  {
   "cell_type": "markdown",
   "metadata": {},
   "source": [
    "### Marketing and Sales alignment\n",
    "* higher efficiency"
   ]
  },
  {
   "cell_type": "markdown",
   "metadata": {},
   "source": [
    "### Why emotion is crucial for B2B brand marketing"
   ]
  },
  {
   "cell_type": "markdown",
   "metadata": {},
   "source": []
  }
 ],
 "metadata": {
  "kernelspec": {
   "display_name": "Python 2",
   "language": "python",
   "name": "python2"
  },
  "language_info": {
   "codemirror_mode": {
    "name": "ipython",
    "version": 2
   },
   "file_extension": ".py",
   "mimetype": "text/x-python",
   "name": "python",
   "nbconvert_exporter": "python",
   "pygments_lexer": "ipython2",
   "version": "2.7.13"
  }
 },
 "nbformat": 4,
 "nbformat_minor": 2
}
