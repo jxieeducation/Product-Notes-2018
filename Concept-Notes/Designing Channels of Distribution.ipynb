{
 "cells": [
  {
   "cell_type": "markdown",
   "metadata": {},
   "source": [
    "* distribution - process of getting goods from producers to consumer\n",
    "* occurs through channels, producers need to manage channels to maximize competitive adv\n",
    "* GTM - how to design distribution - is a key strategic marketing decision \n",
    "* sometimes need resellers, e.g. OEM -> wholesaler -> retailers\n",
    "* 3 factors for choosing a distribution strategy\n",
    "    * efficiency - getting products and services to retailers and consumers at lowest cost\n",
    "    * effectiveness - market coverage and quality of services provided\n",
    "    * control - ability to determine time and focus "
   ]
  },
  {
   "cell_type": "markdown",
   "metadata": {},
   "source": [
    "### Defining a channel of distribution\n",
    "* a set of interdependent firms that collaborate to make a product or service available for end-use consumption.\n",
    "* certain flows—movements of goods, materials, money, and information—must occur as products or services that proceed from provider to end user. Such activities as managing inventory, providing assortment, breaking bulk, financing, assuming risk, and others enable the timely, efficient, and effective movement of products and services.\n"
   ]
  },
  {
   "cell_type": "markdown",
   "metadata": {},
   "source": [
    "### Channel Types\n",
    "* Distributors (wholesale) - b2b - providing activities such as providing assortment, breaking bulk, financing, and managing inventory. \n",
    "* master distributors - sit between manufacturer and other middlemen and hold inventory\n",
    "* VARS - Designers, engineers, or consultants who partner with manufacturers of products that are used in their designs. They typically buy at a discount and then resell the product as part of their solution\n",
    "* manufacturing reps - specialize in end-users, carry multiple lines of products from different ppl\n",
    "* brokers - a type of manufacturing reps, retail trade"
   ]
  },
  {
   "cell_type": "markdown",
   "metadata": {},
   "source": [
    "### What is the optimal distribution system?\n",
    "* intensive distribution\n",
    "    * widely available at low price\n",
    "    * requires little effort to find it\n",
    "    * hard to maintain control for manufacturer\n",
    "* exclusive distribution\n",
    "    * reduce availability\n",
    "* selective distribution'\n",
    "    * objective is to gain a level of coverage and retain some semblance of control (influence) over how a product is sold, how an image is portrayed, and other factors that might affect the product’s sales and reputation."
   ]
  },
  {
   "cell_type": "markdown",
   "metadata": {},
   "source": [
    "### designing a channel of distribution\n",
    "* the best starting point is to begin with the question: How does the customer want to be met in the marketplace?\n",
    "* segment, position, target - then establish channel\n",
    "* Much vertical channel conflict arises because of the inherently opposed incentives discussed above:\n",
    "    * manufacturers generally want the most intensive or vigorous distribution they can get, while resellers prefer less intensive distribution because competition at the reseller level leads to lower resale margins, so they often redirect their selling efforts away from a product with higher competition and lower margins toward products with lower competition and higher margins. \n",
    "    * Channel conflict between manufacturers and resellers over the level of competition at resale is ever-present."
   ]
  },
  {
   "cell_type": "markdown",
   "metadata": {},
   "source": []
  }
 ],
 "metadata": {
  "kernelspec": {
   "display_name": "Python 2",
   "language": "python",
   "name": "python2"
  },
  "language_info": {
   "codemirror_mode": {
    "name": "ipython",
    "version": 2
   },
   "file_extension": ".py",
   "mimetype": "text/x-python",
   "name": "python",
   "nbconvert_exporter": "python",
   "pygments_lexer": "ipython2",
   "version": "2.7.13"
  }
 },
 "nbformat": 4,
 "nbformat_minor": 2
}
