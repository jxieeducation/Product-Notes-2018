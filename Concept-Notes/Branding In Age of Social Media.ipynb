{
 "cells": [
  {
   "cell_type": "markdown",
   "metadata": {},
   "source": [
    "* brand succeed when they break through in culture\n",
    "* why branded content used to work?\n",
    "    * content networks used to be oligopolies - cultural competition was limited\n",
    "    * brands used to sponsor events / movies ...etc.\n",
    "    * now brands have to compete directly with real entertainment \n",
    "    * led early companies to believe that they needed holiwood level creatives\n",
    "* social media created subcultures and turbo charged art worlds \n",
    "    * organizational models leads to mediocrity"
   ]
  },
  {
   "cell_type": "markdown",
   "metadata": {},
   "source": [
    "* Cultural branding\n",
    "    1. map cultural orthodoxy\n",
    "    2. locate cultural opportunity\n",
    "    3. target crowdculture\n",
    "    4. diffuse new ideology\n",
    "    5. innovate continually, using cultural flashpoints"
   ]
  },
  {
   "cell_type": "markdown",
   "metadata": {},
   "source": [
    "** basically says that in social media age, you should target subcultures, and not think of marketing as traditional brand marketing**"
   ]
  },
  {
   "cell_type": "markdown",
   "metadata": {},
   "source": []
  },
  {
   "cell_type": "markdown",
   "metadata": {},
   "source": []
  }
 ],
 "metadata": {
  "kernelspec": {
   "display_name": "Python 2",
   "language": "python",
   "name": "python2"
  },
  "language_info": {
   "codemirror_mode": {
    "name": "ipython",
    "version": 2
   },
   "file_extension": ".py",
   "mimetype": "text/x-python",
   "name": "python",
   "nbconvert_exporter": "python",
   "pygments_lexer": "ipython2",
   "version": "2.7.13"
  }
 },
 "nbformat": 4,
 "nbformat_minor": 2
}
