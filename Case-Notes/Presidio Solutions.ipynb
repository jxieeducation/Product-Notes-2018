{
 "cells": [
  {
   "cell_type": "markdown",
   "metadata": {},
   "source": [
    "* inside sales - sold contract renewals\n",
    "* outside sales- new clients\n",
    "* 2 mbas met in menlo park, to start a search fund\n",
    "* search fund - found Presidio Solutions and bought it out for professional management"
   ]
  },
  {
   "cell_type": "markdown",
   "metadata": {},
   "source": [
    "### Presidio Solutions Overview\n",
    "* companies were leaving renewal offers on the table! \n",
    "* most tech companies didn't have the scale to justify a specialized renewal team\n",
    "* opportunity for third-party, outsourced sales force\n",
    "* currently, they have a great outside sales team of 1 or 2 people\n",
    "* also an inside sales team, train the clients, "
   ]
  },
  {
   "cell_type": "markdown",
   "metadata": {},
   "source": [
    "### A closer look at inside sales\n",
    "* companies usually do a poor job with contract renewals\n",
    "    * the strong sales people are focused on new clients\n",
    "    * usually internal non sales people who did the renewal\n",
    "* Presidio Solutions was better:\n",
    "    * offered a geneuine sales force\n",
    "    * sophisticated MIS that gave real time feedback! \n",
    "\n",
    "### A typical inside sales cycle\n",
    "* flow: presidio solutions sold business to a client -> company train reps about client product -> client deliver historical sales and customer data -> distributed these data as leads to Presidio Solutions' sales reps\n",
    "* first task is to verify a complete list of products purchased by a consumer"
   ]
  },
  {
   "cell_type": "markdown",
   "metadata": {},
   "source": [
    "### Variations between accounts\n",
    "* largely determined by the client's core business\n",
    "* entreprise software has a 95% potential to renew, because people rarely uninstalled products and cost of downtime is high\n",
    "* other end of spectrum are software dev tools taht had low switching costs, as low as 80% potential to renew"
   ]
  },
  {
   "cell_type": "markdown",
   "metadata": {},
   "source": [
    "### inside sales org career ladder\n",
    "* high cost of losing a sales rep, because it will cause clients to worry aobut the brain drain\n",
    "* inside sales rep -> team leader (both sales and management) -> account managers -> EVP -> \n",
    "* needed to balance a lot of things via compensation"
   ]
  },
  {
   "cell_type": "markdown",
   "metadata": {},
   "source": [
    "### A typical sales cycle\n",
    "* "
   ]
  },
  {
   "cell_type": "code",
   "execution_count": null,
   "metadata": {
    "collapsed": true
   },
   "outputs": [],
   "source": []
  }
 ],
 "metadata": {
  "kernelspec": {
   "display_name": "Python 2",
   "language": "python",
   "name": "python2"
  },
  "language_info": {
   "codemirror_mode": {
    "name": "ipython",
    "version": 2
   },
   "file_extension": ".py",
   "mimetype": "text/x-python",
   "name": "python",
   "nbconvert_exporter": "python",
   "pygments_lexer": "ipython2",
   "version": "2.7.13"
  }
 },
 "nbformat": 4,
 "nbformat_minor": 2
}
