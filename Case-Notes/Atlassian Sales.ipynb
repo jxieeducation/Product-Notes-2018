{
 "cells": [
  {
   "cell_type": "markdown",
   "metadata": {},
   "source": [
    "* Atlassian started with a no-touch sales model - customers bought Atlassian software all online\n",
    "* started in 2002, nuclear winter of VC, decided to bootstrap a team building software that tracked buggs, later Jira"
   ]
  },
  {
   "cell_type": "markdown",
   "metadata": {},
   "source": [
    "* launched in April 2002, sold Jira as a perpectual liscence for 800 bucks\n",
    "* let Jira be used by the open source community for free, gained initial traction\n",
    "* low price, let Jira acquire a lot of new customers\n",
    "* since it's low cost, it also forced the company to have no salesforce, because the margins are not high enough\n",
    "* low-price, volume based model\n",
    "* did adwords marketing\n",
    "* philosophy as \"our product is bought, not sold\""
   ]
  },
  {
   "cell_type": "markdown",
   "metadata": {},
   "source": [
    "### second product\n",
    "* confluence, manage knowledge in organizations\n",
    "* new pricing model with user tiers (25, 50, unlimited)\n",
    "* also changed Jira pricing\n",
    "* was able to launch in 2004, because they took no VC money from the nuclear winter\n",
    "\n",
    "### advocacy team and channel partners\n",
    "* most software companies try to upsell their customers\n",
    "* customer advocacy program helps people get more out of atlassian\n",
    "* advocacy team could not qualify sales, and their job is to be useful \n",
    "* in quarterly sales figures, the growth is linear, and no jump at the end"
   ]
  },
  {
   "cell_type": "markdown",
   "metadata": {},
   "source": [
    "### kpi \n",
    "* main kpis were:\n",
    "    * speed of response\n",
    "    * customer satisfaction score\n",
    "* did AB test of no touch vs high touch"
   ]
  },
  {
   "cell_type": "markdown",
   "metadata": {},
   "source": [
    "### channel partners\n",
    "* channel partners to provide in-person and localized sales \n",
    "* given a 25% sales margin\n",
    "* does not compete with a high touch salesforce, so inherent synergy with no touch model"
   ]
  },
  {
   "cell_type": "markdown",
   "metadata": {},
   "source": [
    "### shifts in pricing and sales model\n",
    "* lowered pricing for smaller tier\n",
    "* created additional higher tiers e.g. 10,000+ to capture more value\n",
    "* eventually introduced the data center edition, where Atlassian charges a lot more, upward of a million a year\n",
    "* created enterprise advocates to support the top 500 customers"
   ]
  },
  {
   "cell_type": "markdown",
   "metadata": {},
   "source": [
    "** different sales segments require different channels and personels ** "
   ]
  },
  {
   "cell_type": "code",
   "execution_count": null,
   "metadata": {
    "collapsed": true
   },
   "outputs": [],
   "source": []
  }
 ],
 "metadata": {
  "kernelspec": {
   "display_name": "Python 2",
   "language": "python",
   "name": "python2"
  },
  "language_info": {
   "codemirror_mode": {
    "name": "ipython",
    "version": 2
   },
   "file_extension": ".py",
   "mimetype": "text/x-python",
   "name": "python",
   "nbconvert_exporter": "python",
   "pygments_lexer": "ipython2",
   "version": "2.7.13"
  }
 },
 "nbformat": 4,
 "nbformat_minor": 2
}
