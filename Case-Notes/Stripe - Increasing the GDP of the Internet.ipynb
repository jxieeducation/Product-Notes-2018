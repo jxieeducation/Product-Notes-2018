{
 "cells": [
  {
   "cell_type": "markdown",
   "metadata": {},
   "source": [
    "* Instead of navigating the convoluted global financial system—setting up merchant accounts, ensuring data security, transacting across borders in multiple currencies, and figuring out how to enable complex financial transactions like recurring payments or multi-sided marketplaces—companies could use Stripe’s services to bypass these payment hurdles"
   ]
  },
  {
   "cell_type": "markdown",
   "metadata": {},
   "source": [
    "### background - how do payments work?\n",
    "* 2010, most transactions are by credit cards\n",
    "* steps:\n",
    "    1. merchant contracted with acquirer to accept payments through POS terminal or online gateway\n",
    "    2. gateway gets request and submit it to the bank using secure site connection\n",
    "    3. bank accepts it and send it to credit card network\n",
    "    4. then back to gateway"
   ]
  },
  {
   "cell_type": "markdown",
   "metadata": {},
   "source": [
    "### Stripe\n",
    "* navigated the partnerships really really carefully , e.g. can't just go to welsfargo and go guns blazing!\n",
    "* Shopify - \n",
    "    * every merchant on Shopify had to get a stripe acc, wanted a whitelabel acc, so that merchants can just sell =)\n",
    "    * Stripe did the one-off project\n",
    "    * became Stripe connect, after realziing Sally the Tshirt shop isn't Stripe's customer, Shopify is\n",
    "* Stripe Relay\n",
    "    * for mobile"
   ]
  },
  {
   "cell_type": "markdown",
   "metadata": {},
   "source": []
  },
  {
   "cell_type": "markdown",
   "metadata": {},
   "source": []
  }
 ],
 "metadata": {
  "kernelspec": {
   "display_name": "Python 2",
   "language": "python",
   "name": "python2"
  },
  "language_info": {
   "codemirror_mode": {
    "name": "ipython",
    "version": 2
   },
   "file_extension": ".py",
   "mimetype": "text/x-python",
   "name": "python",
   "nbconvert_exporter": "python",
   "pygments_lexer": "ipython2",
   "version": "2.7.13"
  }
 },
 "nbformat": 4,
 "nbformat_minor": 2
}
