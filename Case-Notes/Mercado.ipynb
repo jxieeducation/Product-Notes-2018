{
 "cells": [
  {
   "cell_type": "markdown",
   "metadata": {},
   "source": [
    "* Mercado does the search and merchandising technology to power retail web sites\n",
    "* offers hybrid distribution\n",
    "    * on-premise\n",
    "    * on demand (SaaS)"
   ]
  },
  {
   "cell_type": "markdown",
   "metadata": {},
   "source": [
    "### On Premise\n",
    "* deployed on a client's server\n",
    "* offers complex and robust functionalities\n",
    "* clients typically wanted open architectures and tight integration\n",
    "* has large product catalogs, want to customize and own, with large in house IT\n",
    "* typically sold by outside salesforce\n",
    "* complex product, long sales cycles\n",
    "\n",
    "### SaaS\n",
    "* smaller, had little IT support inhouse\n",
    "* simpler\n",
    "* customers self quality and identify, need only inside sales"
   ]
  },
  {
   "cell_type": "markdown",
   "metadata": {},
   "source": [
    "### capabilities\n",
    "* good search\n",
    "* good rev\n",
    "* Mercado uses the query, or category browsing in the same way This functionality allowed the merchandisers to rank and present products based on their business priorities (e.g., margin, inventory, partnerships)"
   ]
  },
  {
   "cell_type": "markdown",
   "metadata": {},
   "source": [
    "### organizational implications\n",
    "* sales people are not happy, from SaaS rev\n",
    "* existing sales compensation plan\n",
    "    * 4.5% of each deal, quota 2.2M each year, 5% acclerator at 100%, never capped\n",
    "* current, field sales team (2 AE + 1 SE + 1 sales development --> 2 teams)\n",
    "* high touch, traveled to client, flexible\n",
    "* wanted to compensate sales people less upfront\n",
    "* SaaS is taxing from a cash perspective\n",
    "* deal flow also changed, as more deals became inbound\n",
    "* could not simply divide up the territory! existing AEs hated it\n",
    "* team tried to divide by rev, but field sales reps could also get a lot of SaaS deals, which isn't what they want"
   ]
  },
  {
   "cell_type": "markdown",
   "metadata": {},
   "source": []
  },
  {
   "cell_type": "markdown",
   "metadata": {},
   "source": []
  },
  {
   "cell_type": "markdown",
   "metadata": {},
   "source": []
  }
 ],
 "metadata": {
  "kernelspec": {
   "display_name": "Python 2",
   "language": "python",
   "name": "python2"
  },
  "language_info": {
   "codemirror_mode": {
    "name": "ipython",
    "version": 2
   },
   "file_extension": ".py",
   "mimetype": "text/x-python",
   "name": "python",
   "nbconvert_exporter": "python",
   "pygments_lexer": "ipython2",
   "version": "2.7.13"
  }
 },
 "nbformat": 4,
 "nbformat_minor": 2
}
