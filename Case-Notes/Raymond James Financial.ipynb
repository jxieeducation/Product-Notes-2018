{
 "cells": [
  {
   "cell_type": "markdown",
   "metadata": {},
   "source": [
    "* RJF - financial advisors, inhouse and independent\n",
    "* wondering if there can be a new channel, called \"quasi\" - inbetween the above 2"
   ]
  },
  {
   "cell_type": "markdown",
   "metadata": {},
   "source": [
    "### Securities industry\n",
    "* main subindustries of financial services:\n",
    "    * Investment banking\n",
    "    * commercial banking\n",
    "    * securities \n",
    "    * VC and PE\n",
    "    * insurance\n",
    "    * finance company\n",
    "    * asset management\n",
    "* securities\n",
    "    * sold via cnetral exchange or over the counter\n",
    "    * usually cleared via the 270 limited big firms\n",
    "    * or NASDAQ electronically\n",
    "* broker / dealers are differentiated via:\n",
    "    * size and scope\n",
    "        * \"wirehouses\" - big firms like merrill lynch\n",
    "        * \"independent\" broker / dealers - like RJF\n",
    "    * amount of advice\n",
    "        * Full commission brokers offered investment advice and charged commissions between 1 and 2.5%\n",
    "        * discount broekrs - offered little advice and lwo comission\n",
    "    * scope of parent firm's involvement in financial services\n",
    "* FAs take a long time to train and are expensive\n",
    "* high churn like 20%\n",
    "* industry trend is towards fee-based FA, not comission\n",
    "    * required successful FAs to build long term relationships"
   ]
  },
  {
   "cell_type": "markdown",
   "metadata": {},
   "source": [
    "## Raymond James Financial's Securities Biz\n",
    "* had 4 major activities:\n",
    "    1. industrial investments and financial planning\n",
    "    2. capital markets (raising funds through long term means, underwriting, sales, market making...etc.)\n",
    "    3. asset management\n",
    "    4. commercial banking\n",
    "* RJA - traditional FA\n",
    "* pay of FA:\n",
    "    * 40% of commissions she generated\n",
    "    * 15% - to cover costs\n",
    "    * 5% in form of delayed compensation\n",
    "* branch manager pay:\n",
    "    * fn of total commissions generated in branch, branch profitability, number of FAs recruited\n",
    "\n",
    "* RJFS - 100 independent contractor FAs\n",
    "* "
   ]
  },
  {
   "cell_type": "markdown",
   "metadata": {},
   "source": []
  },
  {
   "cell_type": "markdown",
   "metadata": {},
   "source": []
  }
 ],
 "metadata": {
  "kernelspec": {
   "display_name": "Python 2",
   "language": "python",
   "name": "python2"
  },
  "language_info": {
   "codemirror_mode": {
    "name": "ipython",
    "version": 2
   },
   "file_extension": ".py",
   "mimetype": "text/x-python",
   "name": "python",
   "nbconvert_exporter": "python",
   "pygments_lexer": "ipython2",
   "version": "2.7.13"
  }
 },
 "nbformat": 4,
 "nbformat_minor": 2
}
