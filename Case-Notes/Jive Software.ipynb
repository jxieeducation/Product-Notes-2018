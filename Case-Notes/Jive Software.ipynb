{
 "cells": [
  {
   "cell_type": "markdown",
   "metadata": {},
   "source": [
    "* open source forum software - CoolServlet\n",
    "* changed to Jive when Sun Microsystems wanted to try it out\n",
    "* in 2003, became to take off, with the rise of social networks, companies are now a lot more willing to communicate with custoemrs and even internally\n",
    "* realized that there's a lot of opportunity, and wanted to grow as more than just a raw technology\n",
    "* moved to portland, cheaper, better developer group, better inside sales group...etc."
   ]
  },
  {
   "cell_type": "markdown",
   "metadata": {},
   "source": [
    "### where to focus next?\n",
    "* service\n",
    "    * customer service and support\n",
    "    * bundled existig components together - forum, instant messaging, knowledge base\n",
    "    * failed because it's crowded\n",
    "* Integrated Social Software\n",
    "    * put everything together, and integrate them \n",
    "\n",
    "### Early sales strategy\n",
    "* built inside sales + 2 sales reps\n",
    "* primary lead drive was customer references\n",
    "* key term fo the deal - \"Powered by Jive\" on public facing applications\n",
    "* additional lead drivrs include open pricing, and free trials"
   ]
  },
  {
   "cell_type": "markdown",
   "metadata": {},
   "source": [
    "### Reactive Sales\n",
    "* more RFPs than active selling, because of great reputation\n",
    "* since they have low prices, didn't discriminate who they sold to\n",
    "    * a lot of SMBs\n",
    "* lacked lead qualificiation, so each sales rep had to spend time on phone to guage level of interest\n",
    "* minimal add on sales, and enterprise upgrades"
   ]
  },
  {
   "cell_type": "markdown",
   "metadata": {},
   "source": [
    "### team quotas\n",
    "* organized reps into teams, each team did a territory\n",
    "* mix between field and inside sales\n",
    "* frustrations:\n",
    "    * quarterly quotas penalized high performers since it raised their quotas\n",
    "    * sometimes announced after quarter already started"
   ]
  },
  {
   "cell_type": "markdown",
   "metadata": {},
   "source": [
    "### growing pains\n",
    "* poor control of finances and tracking\n",
    "* poor sales training\n",
    "* bad communication between sales and product\n",
    "* quaterly quota systems led to bad incentive behavior\n",
    "\n",
    "### fuzzy finances\n",
    "* poor tracking\n"
   ]
  },
  {
   "cell_type": "code",
   "execution_count": null,
   "metadata": {
    "collapsed": true
   },
   "outputs": [],
   "source": []
  }
 ],
 "metadata": {
  "kernelspec": {
   "display_name": "Python 2",
   "language": "python",
   "name": "python2"
  },
  "language_info": {
   "codemirror_mode": {
    "name": "ipython",
    "version": 2
   },
   "file_extension": ".py",
   "mimetype": "text/x-python",
   "name": "python",
   "nbconvert_exporter": "python",
   "pygments_lexer": "ipython2",
   "version": "2.7.13"
  }
 },
 "nbformat": 4,
 "nbformat_minor": 2
}
