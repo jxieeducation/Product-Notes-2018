{
 "cells": [
  {
   "cell_type": "markdown",
   "metadata": {},
   "source": [
    "[linkedin](https://www.linkedin.com/in/heidiroizen/)"
   ]
  },
  {
   "cell_type": "markdown",
   "metadata": {},
   "source": [
    "* Heidi Roizen - well connected, entrepreneur -> biz exec -> vc\n",
    "* background: stanford creative writing -> tandem computers writer"
   ]
  },
  {
   "cell_type": "markdown",
   "metadata": {},
   "source": [
    "## Building a network\n",
    "### Tandem\n",
    "* first experience, got job via referral\n",
    "* as a company newsletter writer, leveraged access to high profile individuals in the company\n",
    "* asked for a referral from the company's CEO, to Stanford GSB MBA\n",
    "\n",
    "### T/Maker\n",
    "* after GSB in 1983, founded T/Maker with her brother\n",
    "* T/maker didn't take on investment, lost out in retail market due to low sales and marketing budget\n",
    "* Roizen built relationship with the press\n",
    "* also attended a lot of industry conferences, maximizing short conversations\n",
    "* turn a short conversation into a memorable one, contributing one or two ideas in a short amount of time, making conversation memorable\n",
    "* it's easier to be friends with people before they become famous. \n",
    "    * Roizen’s willingness to invest time in developing relationships with people whom she simply found interesting and smart⎯as opposed to powerful⎯paid off repeatedly throughout the years\n",
    "    * Heidi simply likes to get to know and be friends with good-quality, talented people⎯that’s her primary motivation. In some ways, by investing so much time in these people, she is placing a bet⎯but those bets have paid off for her in the past.\n",
    "* T/Maker made good software for the MAC and succeeded "
   ]
  },
  {
   "cell_type": "markdown",
   "metadata": {},
   "source": [
    "## Maintaining and Leveraging a Network\n",
    "### Apple\n",
    "* Apple was on decline\n",
    "* Heidi had a lot of experience with Apple developers\n",
    "* called in favors from network to get people to continue supporting apple in the dark ages\n",
    "* believer of **consistency** and **performance**  than frequency of interactions in networking\n",
    "    * **performance** means that you got back to the person in time, and did your best to be helpful\n",
    "    * **consistency** means that you behave consistently, don't change your views and attitudes willy-nilly\n",
    "* Roizen helped amend Apple and Microsoft's bitter relationship\n",
    "\n",
    "### Mentor Capitalist\n",
    "* became a VC that invested time and experience instead, first Board Director after VC round\n",
    "* helped act as an independent board member, recruited people for key positions\n",
    "* leveraged her network, if she can create a true win-win situation\n",
    "* * There has to be a balance in every relationship. You can’t always be the person asking for\n",
    "the favor, but at the same time, you can’t spend your entire day doing goodwill for others\n",
    "either. It has to go both ways. When you do decide to ask a favor, it’s critical to first consider\n",
    "the demands on the other person’s time. I think I have a keen understanding of what each\n",
    "person faces in their day, and generally speaking, I have found that the more powerful the\n",
    "person, the more incoming requests they receive for their time and attention. So you have to\n",
    "make sure that your request is really important to you and that it has some opportunity to\n",
    "carry a payback with it⎯either in the request itself or in the promise of a future exchange. *\n",
    "* "
   ]
  }
 ],
 "metadata": {
  "kernelspec": {
   "display_name": "Python 2",
   "language": "python",
   "name": "python2"
  },
  "language_info": {
   "codemirror_mode": {
    "name": "ipython",
    "version": 2
   },
   "file_extension": ".py",
   "mimetype": "text/x-python",
   "name": "python",
   "nbconvert_exporter": "python",
   "pygments_lexer": "ipython2",
   "version": "2.7.13"
  }
 },
 "nbformat": 4,
 "nbformat_minor": 2
}
