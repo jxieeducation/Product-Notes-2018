{
 "cells": [
  {
   "cell_type": "markdown",
   "metadata": {},
   "source": [
    "* 1998, Veritas and Seagate merger, for data storage software\n",
    "* sales and channels between the 2 companies are totally different"
   ]
  },
  {
   "cell_type": "markdown",
   "metadata": {},
   "source": [
    "### Data Storage management\n",
    "* ensured continuation of information-dependent business processes after interruption\n",
    "* choice between product was based on how long a person was willing to tolerate a lack of access to data"
   ]
  },
  {
   "cell_type": "markdown",
   "metadata": {},
   "source": [
    "### Customer Segmentation\n",
    "* high end\n",
    "    * companies with more than 500M rev\n",
    "    * bought from direct sales force\n",
    "* low end\n",
    "    * homes and Small Office Home Office (SOHO)\n",
    "    * Low-end customers usually bought solutions through a 2-tier distribution network of distributors and resellers, such as a local computer store that is itself supplied by a regional or national computer products distributor\n",
    "* mid range\n",
    "    * no industry norm on how ot sell to mid range customers\n",
    "    * companies with 50-250M annual rev, departments of large companies"
   ]
  },
  {
   "cell_type": "markdown",
   "metadata": {},
   "source": [
    "### Veritas Software Background\n",
    "* sales-driven, oracle background\n",
    "* most deals are around 30k, but larger ones are > 100k\n",
    "* 3 channels: direct, enterprise VARs and OEM (embed in to computers)\n",
    "* sales ppl: aggressive, intelligent, ‘don’t-take-no-for-an-answer’, highly-driven, solution-oriented individuals, who never give up a fight against the competition, yet exhibit great professionalism and understanding of their customers’ needs\n",
    "* VERITAS reps often performed upfront analyses of a prospect’s business needs, educated prospects on complex solutions and ROI opportunities, and gave PowerPoint presentations of their findings to C-level executives.\n",
    "* the average VERITAS salesperson who made 100 percent of quota earned 85,000 in base salary plus 95,000 to 125,000 in commissions"
   ]
  },
  {
   "cell_type": "markdown",
   "metadata": {},
   "source": [
    "### Seagate Background\n",
    "* 1k deal size\n",
    "* 80 reps focused on selling throguh channels, 33% wholsellers, 67% resellers\n",
    "* less risky comp\n",
    "* culture - be cheap to be rewarded"
   ]
  },
  {
   "cell_type": "markdown",
   "metadata": {},
   "source": [
    "### End goal\n",
    "* 5 channels: direct sales, single-tier VARs, distributors and resellers, OEM partners, and e-commerce.\n",
    "\n",
    "### considerations\n",
    "* cultural differences\n",
    "* comp differences\n",
    "* territory overlap for mid segment\n",
    "* duplicate mgmt "
   ]
  },
  {
   "cell_type": "markdown",
   "metadata": {},
   "source": [
    "### integration\n",
    "* can't just have 2 different sales dept, because need to combine culture and make it easy to move up the product line"
   ]
  },
  {
   "cell_type": "code",
   "execution_count": null,
   "metadata": {
    "collapsed": true
   },
   "outputs": [],
   "source": []
  }
 ],
 "metadata": {
  "kernelspec": {
   "display_name": "Python 2",
   "language": "python",
   "name": "python2"
  },
  "language_info": {
   "codemirror_mode": {
    "name": "ipython",
    "version": 2
   },
   "file_extension": ".py",
   "mimetype": "text/x-python",
   "name": "python",
   "nbconvert_exporter": "python",
   "pygments_lexer": "ipython2",
   "version": "2.7.13"
  }
 },
 "nbformat": 4,
 "nbformat_minor": 2
}
