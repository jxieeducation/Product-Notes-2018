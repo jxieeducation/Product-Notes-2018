{
 "cells": [
  {
   "cell_type": "markdown",
   "metadata": {},
   "source": [
    "### Taxi and limoisine regulatory env\n",
    "* taxicabs and livery vehicles have very different law\n",
    "    * taxicabs are controlled via medallion system\n",
    "    * livery vehicles must maintain valid liscences from their regulartory env\n",
    "\n",
    "### Contacting service provider\n",
    "* regulations about 3rd party sources for livery biz"
   ]
  },
  {
   "cell_type": "markdown",
   "metadata": {},
   "source": [
    "## Uber Model\n",
    "* an efficient lead-generation system for limo companies\n",
    "* didn't fit into either taxi or livery market\n",
    "* Uber didn't seek preapproval from regulatory agencies, but relied on limosine operators\n",
    "* SF made a cease or desist, UberCab dropped Cab from name\n",
    "\n",
    "### Uber in Washington DC\n",
    "* a lot of regulation stuff"
   ]
  },
  {
   "cell_type": "markdown",
   "metadata": {},
   "source": []
  },
  {
   "cell_type": "markdown",
   "metadata": {},
   "source": []
  },
  {
   "cell_type": "markdown",
   "metadata": {},
   "source": []
  }
 ],
 "metadata": {
  "kernelspec": {
   "display_name": "Python 2",
   "language": "python",
   "name": "python2"
  },
  "language_info": {
   "codemirror_mode": {
    "name": "ipython",
    "version": 2
   },
   "file_extension": ".py",
   "mimetype": "text/x-python",
   "name": "python",
   "nbconvert_exporter": "python",
   "pygments_lexer": "ipython2",
   "version": "2.7.13"
  }
 },
 "nbformat": 4,
 "nbformat_minor": 2
}
