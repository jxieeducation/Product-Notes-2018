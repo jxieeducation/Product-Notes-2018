{
 "cells": [
  {
   "cell_type": "markdown",
   "metadata": {},
   "source": [
    "### video rental industry\n",
    "* a way to extend the movie business\n",
    "* trneds:\n",
    "    * blue ray dvds\n",
    "    * digital streaming \n",
    "\n",
    "### video rental value chain\n",
    "* value chain : content creator - distributors - televisions - cable operators - movie theaters - video rental stores - retail outlets\n",
    "* order of timeline: 1. theater 2. home video and pay cable 3. basic cable and tv networks\n",
    "\n",
    "### rise of Blockbuster\n",
    "* founded 1985, acquired local video stores to gain tremendous growth\n",
    "* biz mdoel:\n",
    "    * bought movie licenses \n",
    "    * stocked dvds\n",
    "    * stored them in network and franchisees\n",
    "* fell because of DVD and personel stuff"
   ]
  },
  {
   "cell_type": "markdown",
   "metadata": {},
   "source": [
    "### Netflix\n",
    "* Hastings discoverd that he owed 40 dollars of late fees\n",
    "* created highly customized experience for subscribers - built an innovative recommendation engine\n",
    "* created lower stock volumes\n",
    "\n",
    "### value drivers in the video rental market\n",
    "* 3 levers to drive value\n",
    "    * selection\n",
    "    * convenience\n",
    "    * price\n",
    "* key adv: using data\n",
    "    * building customer experience\n",
    "    * building better algorithms\n",
    "    * long tail selection and variety\n",
    "    * relationship with movie house\n",
    "    * employee dogfood"
   ]
  },
  {
   "cell_type": "markdown",
   "metadata": {},
   "source": [
    "### competition in digital distribution market\n",
    "* roku\n",
    "* netflix as a contnet creator\n",
    "* limitless ondemand video - current offering"
   ]
  },
  {
   "cell_type": "markdown",
   "metadata": {},
   "source": []
  },
  {
   "cell_type": "markdown",
   "metadata": {},
   "source": []
  },
  {
   "cell_type": "markdown",
   "metadata": {},
   "source": []
  }
 ],
 "metadata": {
  "kernelspec": {
   "display_name": "Python 2",
   "language": "python",
   "name": "python2"
  },
  "language_info": {
   "codemirror_mode": {
    "name": "ipython",
    "version": 2
   },
   "file_extension": ".py",
   "mimetype": "text/x-python",
   "name": "python",
   "nbconvert_exporter": "python",
   "pygments_lexer": "ipython2",
   "version": "2.7.13"
  }
 },
 "nbformat": 4,
 "nbformat_minor": 2
}
