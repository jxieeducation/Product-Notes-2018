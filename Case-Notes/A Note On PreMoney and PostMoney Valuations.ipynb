{
 "cells": [
  {
   "cell_type": "markdown",
   "metadata": {},
   "source": [
    "### simple example\n",
    "* VC invests 4M, want 50% return in 5 years (1.5^5 = 8x) \n",
    "* if VC thinks that the venture will be valuated at 5x 5th year cash flow - 5 * 30 = 150M\n",
    "* In order to have 30M (approx 8x) at the exit, VC needs to own 20% of company\n",
    "* so 4M for 20% of company, this means that post money, the company is 20M, and the premoney is 16M"
   ]
  },
  {
   "cell_type": "markdown",
   "metadata": {},
   "source": [
    "* premoney - price per share multiplied by the number of shares before injection of money\n",
    "* postmoney - price per share after the financing event"
   ]
  },
  {
   "cell_type": "markdown",
   "metadata": {},
   "source": [
    "### Vermeer Technologies\n",
    "* first round, 4M for 51% of stock\n",
    "* meaning 7.8M postmoney, and 3.8 premoney\n",
    "* second round, 7.2M against premoney valuation of 32M\n",
    "* therefore, postmoney = 39.2, and that the investors acquired 7.2/39.2 = 18%\n",
    "\n",
    "### TallyUp\n",
    "* "
   ]
  },
  {
   "cell_type": "markdown",
   "metadata": {},
   "source": []
  },
  {
   "cell_type": "markdown",
   "metadata": {},
   "source": []
  }
 ],
 "metadata": {
  "kernelspec": {
   "display_name": "Python 2",
   "language": "python",
   "name": "python2"
  },
  "language_info": {
   "codemirror_mode": {
    "name": "ipython",
    "version": 2
   },
   "file_extension": ".py",
   "mimetype": "text/x-python",
   "name": "python",
   "nbconvert_exporter": "python",
   "pygments_lexer": "ipython2",
   "version": "2.7.13"
  }
 },
 "nbformat": 4,
 "nbformat_minor": 2
}
