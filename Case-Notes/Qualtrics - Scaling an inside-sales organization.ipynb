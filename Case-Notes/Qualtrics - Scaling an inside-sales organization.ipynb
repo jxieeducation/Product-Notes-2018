{
 "cells": [
  {
   "cell_type": "markdown",
   "metadata": {},
   "source": [
    "### evolution of sales org\n",
    "* high velocity, inside-only sales-model born of necessity\n",
    "    * phone based customer acquisition (cold called)\n",
    "    * variable compensation culture (50% comission, uncapped)\n",
    "    * nail it then scale it appraoch for market entry\n",
    "* growth of inside sales\n",
    "    * trial and error approach to sales \n",
    "    * include a multi-level sales model, uncapped commission, a local recruitment strategy, war-rooms, radical transparency, and a “Trojan Horse” customer acquisition strategy.\n",
    "* war rooms - everyone is given an equal voice\n",
    "* trojan horse customer acquistion - close small deals within departments - \n",
    "    * In this approach, the inside-sales team would defy convention and split the risk early on by calling on multiple units within one organization.\n",
    "    * to close large deal\n",
    "* inside sales \n",
    "    * 30 percent of his time on scheduled customer calls, 35 percent prospecting via cold calls, 25 percent mining for new customers, and the remaining 10 percent of his time on administrative work for his team and existing customers."
   ]
  },
  {
   "cell_type": "markdown",
   "metadata": {},
   "source": []
  },
  {
   "cell_type": "markdown",
   "metadata": {},
   "source": []
  },
  {
   "cell_type": "markdown",
   "metadata": {},
   "source": []
  },
  {
   "cell_type": "markdown",
   "metadata": {},
   "source": []
  },
  {
   "cell_type": "markdown",
   "metadata": {},
   "source": []
  }
 ],
 "metadata": {
  "kernelspec": {
   "display_name": "Python 2",
   "language": "python",
   "name": "python2"
  },
  "language_info": {
   "codemirror_mode": {
    "name": "ipython",
    "version": 2
   },
   "file_extension": ".py",
   "mimetype": "text/x-python",
   "name": "python",
   "nbconvert_exporter": "python",
   "pygments_lexer": "ipython2",
   "version": "2.7.13"
  }
 },
 "nbformat": 4,
 "nbformat_minor": 2
}
