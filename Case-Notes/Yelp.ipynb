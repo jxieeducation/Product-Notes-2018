{
 "cells": [
  {
   "cell_type": "markdown",
   "metadata": {},
   "source": [
    "## Background\n",
    "* Yelp 2012 - losing money, The slowdown in advertising spending that accompanied the financial crisis of 2008 was a major setback, since Yelp booked most of its revenue from advertising and sponsorship\n",
    "* Yelp - popular online destination for reviews of local establishments, including restaurants, shops, and beauty salons.\n",
    "* 2 options:\n",
    "    1. maintain existing monetization - continue to invest in massive sales force\n",
    "    2. change monetization model and charge readers for access to reviews"
   ]
  },
  {
   "cell_type": "markdown",
   "metadata": {},
   "source": [
    "## Yelp's origin\n",
    "* 2004, Jeremy Stoppelman, Russel Simmons, wanted to find reviews for services\n",
    "* in the initial version, users could specify service, location, email addresses of friends to inquire from, and compile the responses\n",
    "* pivoted to current version of yelp\n",
    "* also added profiles for users\n",
    "* Yelp's biz model revolved around 3 key constituencies:\n",
    "    1. contributors with reviews\n",
    "    2. consumers who read them\n",
    "    3. local businesses that they described"
   ]
  },
  {
   "cell_type": "markdown",
   "metadata": {},
   "source": [
    "## Attracting Contributors\n",
    "* Shopping establishments comprised 23% of all reviews, followed by restaurants at 22%, and beauty and fitness, arts and entertainment, and home and local services at 9%, 7%, and 10%, respectively. Other categories (auto, nightlife, travel and hotel, and other) comprised the rest.26 By March 2012, Yelpers had written over 27 million local reviews.\n",
    "* Yelp didn't censor reviews, and protected the contributors\n",
    "* why did the contributors write? \n",
    "    1. loved sharing their opinion\n",
    "    2. to try to change establishment\n",
    "    3. getting compliments\n",
    "* Elite - people who contribute a lot of good reviews\n",
    "    * parties sponsored by locsl businesses who want to impress elites to write good reviews\n",
    "    * grew as a way to meet the users"
   ]
  },
  {
   "cell_type": "markdown",
   "metadata": {},
   "source": [
    "## Geographic Rollout\n",
    "* started in SF, wanted to scale to other cities\n",
    "* took a stab at where to expand by looking at geos at similar sites e.g. craigslist, city search\n",
    "* tried to pay per review -> often poorly written\n",
    "    * only useful to pay for review if you come to a new city with 0 content available\n",
    "    * have employees write a review for the first few weeks\n",
    "* to jumpstart local prescence, hired local community managers \n",
    "    * wrote reviews\n",
    "    * encouraged volunteer reviewers\n",
    "    * starting message board discussions\n",
    "    * launch Elite Squad"
   ]
  },
  {
   "cell_type": "markdown",
   "metadata": {},
   "source": [
    "## Surfacing Content to Readers\n",
    "* home page is city based, gives a lot of links to the things that a user might want\n",
    "* based on a user's search crtieria, give a business or a list of searches (ads here)\n",
    "* Yelp's reviews, can look at a reviewer's profile, can also send msg / compliment reviewer"
   ]
  },
  {
   "cell_type": "markdown",
   "metadata": {},
   "source": [
    "## Yelp's Impact on Local Businesses\n",
    "* Yelp contributors tended to review independent businesses than chains\n",
    "    * small businesses don't have the marketing budget of big chains like starbucks, so it makes Yelp an ampliphication\n",
    "* Yelp reviews have a profound impact on a business's fortune\n",
    "* the only search company with community\n",
    "* Yelp reviews tend to be honest and open"
   ]
  },
  {
   "cell_type": "markdown",
   "metadata": {},
   "source": [
    "## Monetizing Yelp\n",
    "* pay-per-call - Yelp get paid if customer called business and mentioned Yelp\n",
    "    * led Yelp to focus on buisinesses that took a bunch of calls =(\n",
    "* pay-per-visit - hard to understand\n",
    "* sponsored search results or banner ads on competitors\n",
    "    * only establishments with 3 stars and over could place ads on competitors\n",
    "    * also sold advertising to companies like Monster and Zipcar, at the bottom\n",
    "* sponsorship program\n",
    "    * For a monthly fee, a business could update the information on its Yelp page, post photos and updates, and highlight a single review\n",
    "    * could also track how many users visited Yelp's page, as well as msg reviewers\n",
    "* no conflict of interest\n",
    "    * user support group was separate from sales team\n",
    "* 70% of rev came from ads sold to local businesses \n",
    "* explanations for Yelp's bad revenue\n",
    "    1. \"you can't monetize restaurants\"\n",
    "    2. focus on local advertising, requires huge sales force\n",
    "    3. model of charging establishments for advertising. As one astute Internet user observed: “Restaurant gets bad review, and it will not advertise on Yelp. Restaurant gets great review, and it will not advertise on Yelp. What’s the incentive?"
   ]
  },
  {
   "cell_type": "markdown",
   "metadata": {},
   "source": [
    "## Yelp Competitor\n",
    "* "
   ]
  },
  {
   "cell_type": "code",
   "execution_count": null,
   "metadata": {
    "collapsed": true
   },
   "outputs": [],
   "source": []
  }
 ],
 "metadata": {
  "kernelspec": {
   "display_name": "Python 2",
   "language": "python",
   "name": "python2"
  },
  "language_info": {
   "codemirror_mode": {
    "name": "ipython",
    "version": 2
   },
   "file_extension": ".py",
   "mimetype": "text/x-python",
   "name": "python",
   "nbconvert_exporter": "python",
   "pygments_lexer": "ipython2",
   "version": "2.7.13"
  }
 },
 "nbformat": 4,
 "nbformat_minor": 2
}
