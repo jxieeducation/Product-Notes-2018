{
 "cells": [
  {
   "cell_type": "markdown",
   "metadata": {},
   "source": [
    "* product line\n",
    "    * 2 clippable activity tracker\n",
    "    * 4 wristband tracker\n",
    "    * smart scale"
   ]
  },
  {
   "cell_type": "markdown",
   "metadata": {},
   "source": [
    "### competition\n",
    "* apple - Apple watch - had more comprehensive apps, as well as the fitbit stuff\n",
    "* Withings - health and life style consumers electronics company - more of a luxury watch\n",
    "* Garmin and Jawbone - professionalism and simplicity\n",
    "* Nike - software focused "
   ]
  },
  {
   "cell_type": "markdown",
   "metadata": {},
   "source": [
    "### Fitness brand or smartwatch?\n",
    "* smartwatch is becoming the main application\n"
   ]
  },
  {
   "cell_type": "markdown",
   "metadata": {},
   "source": [
    "### challenges and opportunities\n",
    "* challenge - how would wearables keep users active and interested?"
   ]
  },
  {
   "cell_type": "markdown",
   "metadata": {},
   "source": []
  }
 ],
 "metadata": {
  "kernelspec": {
   "display_name": "Python 2",
   "language": "python",
   "name": "python2"
  },
  "language_info": {
   "codemirror_mode": {
    "name": "ipython",
    "version": 2
   },
   "file_extension": ".py",
   "mimetype": "text/x-python",
   "name": "python",
   "nbconvert_exporter": "python",
   "pygments_lexer": "ipython2",
   "version": "2.7.13"
  }
 },
 "nbformat": 4,
 "nbformat_minor": 2
}
