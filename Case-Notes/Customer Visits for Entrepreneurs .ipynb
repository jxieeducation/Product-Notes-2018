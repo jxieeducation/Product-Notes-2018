{
 "cells": [
  {
   "cell_type": "markdown",
   "metadata": {},
   "source": [
    "## Personal visits: Why, Why not, and when?\n",
    "* the less you know about your market, the greater the value of personal visit\n",
    "    * customer visits > surveys when you don't have a clear vision of the customer\n",
    "* objectives\n",
    "    * identify unmet needs and market opportunity\n",
    "    * learn how customers are currently dealing with the problem, what do they wish they can do?\n",
    "    * explore the likes and dislikes, how the intangible aspects of the product (e.g. delivery, support)\n",
    "    * describe role the product currently plays, customer's decision model to choose the product\n",
    "    * generate a) explanations for market trends b) alternative ways of thinking about lead users and segmenting the market\n",
    "* customer visits can supplement demand validation techniques\n",
    "* objectives that can't be achieved through customer visits alone\n",
    "    * revenue potential of additional features\n",
    "    * forecast demand in industry\n",
    "    * test viability of different go to markets\n",
    "    * select alternative concepts that can succeed"
   ]
  },
  {
   "cell_type": "markdown",
   "metadata": {},
   "source": [
    "## Selecting sites and getting access\n",
    "* depends on your hypotheses set\n",
    "* early adopters are good - people who know the problem, disatisfied and searching for something better\n",
    "* convenience sample: family, people who are willing to give the time and are loosely in profile\n",
    "    * has limits, cannot be sure that the feedback is representative or truthful\n",
    "* need a sampling frame - parameters of people and organizations that you wish to visit\n",
    "* where to find these people:\n",
    "    * recruited through ads, linkedin for b2b, twitter search for people showed interest already, google alerts for products, craigslists and surveys\n",
    "    * personal referrals (you must not only ask the right people for introductions, **you must also make it easy for these people to make introductions on your behalf**)\n",
    "    * trade shows, conferences...etc.\n",
    "    * relevant store fronts that have high concentrations of people that you want to target"
   ]
  },
  {
   "cell_type": "markdown",
   "metadata": {},
   "source": [
    "##  Planning a program of visits\n",
    "### 7 step structure for customer visit\n",
    "1. establish explicit research objectives\n",
    "2. select a sample\n",
    "3. decide who will participate in the visit (who should visit depends on objective, product -> engineers, buying process -> sales)\n",
    "4. develop a discussion guide (rough agenda with topics and discussion starters)\n",
    "5. conducting the visit"
   ]
  },
  {
   "cell_type": "markdown",
   "metadata": {},
   "source": [
    "## Conducting the visit"
   ]
  },
  {
   "cell_type": "markdown",
   "metadata": {},
   "source": [
    "## Debrief and follow up\n",
    "\n",
    "#6. debrief and follow up\n",
    "* what were your customers' most important points\n",
    "* did the customers seem to have unexpected reservations?\n",
    "* how does this one compare to the ones earlier?\n",
    "* is there aspects of the interview procedure that should be changed?\n",
    "* what new ideas did this visit stimulate?"
   ]
  },
  {
   "cell_type": "markdown",
   "metadata": {},
   "source": [
    "#7 provide closure, acknowledge help"
   ]
  },
  {
   "cell_type": "code",
   "execution_count": null,
   "metadata": {
    "collapsed": true
   },
   "outputs": [],
   "source": []
  }
 ],
 "metadata": {
  "kernelspec": {
   "display_name": "Python 2",
   "language": "python",
   "name": "python2"
  },
  "language_info": {
   "codemirror_mode": {
    "name": "ipython",
    "version": 2
   },
   "file_extension": ".py",
   "mimetype": "text/x-python",
   "name": "python",
   "nbconvert_exporter": "python",
   "pygments_lexer": "ipython2",
   "version": "2.7.13"
  }
 },
 "nbformat": 4,
 "nbformat_minor": 2
}
