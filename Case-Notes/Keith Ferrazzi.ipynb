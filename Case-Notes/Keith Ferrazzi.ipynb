{
 "cells": [
  {
   "cell_type": "markdown",
   "metadata": {},
   "source": [
    "## Intro\n",
    "* Keith works extremely hard, extremely ambitious\n",
    "* ultimate networker, helps friends, other people find them sincere\n",
    "* childhood\n",
    "    * poor family\n",
    "    * attended private school, because his Dad asked his company's CEO to get him into a top school\n",
    "* Yale BA economics 1988, HBS 1992"
   ]
  },
  {
   "cell_type": "markdown",
   "metadata": {},
   "source": [
    "## Early Influences\n",
    "* humble background and roots, \"the motivation for doing what I do is clearly the insecurity inside of me wanting and needing approval\"\n",
    "* \"Dad was a steel worker and mom who was a cleaning lady\"\n",
    "* went to private school, with rich kids, never measured up to them\n",
    "* Dad instilled drive in him, \"focus and drive needed to accept the background that I inherited\"\n",
    "* simply wanted to be himself, \"embarassed by where he comes from\" and \"emerging recognition that I was gay\"\n",
    "* roomate noted that Keith picked him as roommate because he's athletic and he needed a way into the other circle"
   ]
  },
  {
   "cell_type": "markdown",
   "metadata": {},
   "source": [
    "## Deloitte Consulting\n",
    "* Pat, former head of Deloitte\n",
    "    * Keith joined Deloitte on the condition that they'd have dinner 3 times a year, so that he's guaranteed access to the top\n",
    "* at parties, people were put off by Keith talking about what he's done and what he hopes to accomplish\n",
    "* \"always better at the next job than the one he was currently in\" \n",
    "* \"both ambitious and impatient and he didn't want to go through the steps to get to where he wanted to be\"\n",
    "* didn't like doing grunt work, frustrated that he was not hitting the ball out of the park, doing work that I felt could add greater value to the company\n",
    "* \"My reputation as a summer intern was that I was either going to get fired or I was going to become the CEO of the company. I was young and blind to or just didn’t care what others thought back then. At the same time my behavior got the attention of senior partners of the firm but also hurt my peer relationships.\"\n",
    "* he diverted all his attentioned to maximize his talents and did amazing\n",
    "* exhibited high networking abilities\n",
    "    * started alumni network, HBShares\n",
    "    * Lincoln award, with governor of Chicago and top CEOs\n",
    "* became top marketing executive, because of relationship to Pat and exec team, increased Deloitte awareness\n",
    "* left to Starwood, before becoming a Deloitte partner\n",
    "* maintained great relationship with Pat"
   ]
  },
  {
   "cell_type": "markdown",
   "metadata": {},
   "source": [
    "## Starwood Hotels and Resorts\n",
    "* Starwood just wanted someone to get stuff done instead of trying to re-strategize stuff\n",
    "* brought in external ppl, got into political hotbed\n",
    "* a lot of shift in the CEO / top management, and writing as on the wall for him to leave"
   ]
  },
  {
   "cell_type": "markdown",
   "metadata": {},
   "source": [
    "## YaYa\n",
    "* focused on gaming instead of banner ads for internet advertising\n",
    "* did well for several campaigns\n",
    "* but did not build YaYa into a giant\n",
    "* had downfalls\n",
    "* tried to build a team with opposite skills of him\n",
    "* YaYa did not build a lot of assets that can be sold\n",
    "* didnt have offerings beyond the gaming channels, that was important to blue chip execs\n",
    "* sold YaYa"
   ]
  },
  {
   "cell_type": "markdown",
   "metadata": {},
   "source": [
    "## Personal life\n",
    "* broke up with partner because of different outlooks in life\n",
    "* in next relationship, want to value both strong shared drive and mutual support, and down time\n",
    "* \"I do want someone to buy into my vision and support it or someone who has drive and ambition for themselves. Either way, I want somebody who shares my life and not just tolerates it—someone who will really push me and kick me in the butt when I need it\""
   ]
  },
  {
   "cell_type": "markdown",
   "metadata": {},
   "source": []
  }
 ],
 "metadata": {
  "kernelspec": {
   "display_name": "Python 2",
   "language": "python",
   "name": "python2"
  },
  "language_info": {
   "codemirror_mode": {
    "name": "ipython",
    "version": 2
   },
   "file_extension": ".py",
   "mimetype": "text/x-python",
   "name": "python",
   "nbconvert_exporter": "python",
   "pygments_lexer": "ipython2",
   "version": "2.7.13"
  }
 },
 "nbformat": 4,
 "nbformat_minor": 2
}
