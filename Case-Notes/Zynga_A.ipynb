{
 "cells": [
  {
   "cell_type": "markdown",
   "metadata": {},
   "source": [
    "## Overview\n",
    "* social games on FB and Google+\n",
    "* 50 MAU+, despite a simple interface\n",
    "* 1B rev in 2011, from selling in game currency\n",
    "* filed for IPO in December 2011\n",
    "\n",
    "## Background\n",
    "* Pinkus, HBS 1993, founded several startups\n",
    "* invested in Friendster, realized that there's a lack of content for these games, so gaming is a good fit!\n",
    "\n",
    "## Zynga launches\n",
    "* 2007, released games that were copied from existing games, risk, battleship, poker...etc.\n",
    "* initially sold Poker chips to allow users to play with more skilled tables\n",
    "* Zynga raised 850MM in 2 years"
   ]
  },
  {
   "cell_type": "markdown",
   "metadata": {},
   "source": [
    "## Farmville\n",
    "* just farming, with levels and if you don't do stuff, your farm dies\n",
    "* social features\n",
    "    * login - free gifts to send to friends\n",
    "    * become neighbors with fb friends\n",
    "    * \"help people spend tiny chunks of time on games instead\"\n",
    "* viral features:\n",
    "    * "
   ]
  },
  {
   "cell_type": "markdown",
   "metadata": {},
   "source": []
  }
 ],
 "metadata": {
  "kernelspec": {
   "display_name": "Python 2",
   "language": "python",
   "name": "python2"
  },
  "language_info": {
   "codemirror_mode": {
    "name": "ipython",
    "version": 2
   },
   "file_extension": ".py",
   "mimetype": "text/x-python",
   "name": "python",
   "nbconvert_exporter": "python",
   "pygments_lexer": "ipython2",
   "version": "2.7.13"
  }
 },
 "nbformat": 4,
 "nbformat_minor": 2
}
