{
 "cells": [
  {
   "cell_type": "markdown",
   "metadata": {},
   "source": [
    "* challenge: need to grow revenue by 50% \n",
    "* if NV should expand into supermarket channel to reach revenue goal\n",
    "* NV took on VC money, but VC needs to liquidate, so need higher rev to get high valuation"
   ]
  },
  {
   "cell_type": "markdown",
   "metadata": {},
   "source": [
    "* https://www.investopedia.com/ask/answers/149.asp\n",
    "* topline vs bottomline\n",
    "    * bottomline - net income\n",
    "    * topline - revenue, gross earnings"
   ]
  },
  {
   "cell_type": "markdown",
   "metadata": {},
   "source": [
    "### Natureview early years\n",
    "* 1989, refrigerated cup yogurt\n",
    "* used natural ingredients and a special process that gave the yogurt smooth, creamy texture without artificial thickeners\n",
    "* 50 day vs 30 day average shelf life\n",
    "* 13M rev 1999\n",
    "* 8oz and 32 oz cup sizes\n",
    "* 2000, 8oz - 12 flavors, 86% rev; 32oz - 4 flavors\n",
    "* also other yogurt products - children's 4-oz, yogurt packaged in tubes"
   ]
  },
  {
   "cell_type": "markdown",
   "metadata": {},
   "source": [
    "### refrigerated Yogurt category and yogurt consumer\n",
    "* yogurt, special bacteria to give texture and unique health properties\n",
    "* 1999, total US retail sales of yogurt - 1.8B \n",
    "* concentrated in 4 competitors - Danno, Yoplait, Breyers, Columbo\n",
    "    * 2 main channels - supermarkets and natural food stores\n",
    "    * supermarkets - 97%\n",
    "* natural food stores - more educated, higher incomes, older\n",
    "* 46 percent organic food consumers bought organic products at supermarket, 25 - small health food stores, 29 at natural foods supermarket\n",
    "* purchase priorities: package type / size, taste, flavor, price, freshness, ingredients and organic (in that preference)\n",
    "* 6/8 oz most popular, 74% of total supermarket sales - low growth, hgih competition\n",
    "    * women lunch - 8oz\n",
    "* multipacks - 9% - high growth - 12% yoy\n",
    "    * children and mothers - 6oz\n",
    "* 32oz - 8% - low growth\n",
    "    * heavy yogurt consumers"
   ]
  },
  {
   "cell_type": "markdown",
   "metadata": {},
   "source": [
    "### Sales and Distribution process - Supermarket vs Nature Foods\n",
    "\n",
    "#### supermarkets\n",
    "* large manufacturers had sales forces that called directly on category buyers\n",
    "* smaller manufacturers used sales brokers to sell into chains\n",
    "* 4% broker fee\n",
    "* to go into supermarkets, need to depend on broker's knowledge of promotional and merchandising requirements\n",
    "\n",
    "\n",
    "#### natural food channels\n",
    "* higher retail prices \n",
    "* distribution - 4 parties instead of 3, manufacturer, wholeseller, retailers + natural foods distributor (sits between wholeseller and retailer)"
   ]
  },
  {
   "cell_type": "markdown",
   "metadata": {},
   "source": [
    "## Senior mgmt 3 options"
   ]
  },
  {
   "cell_type": "markdown",
   "metadata": {},
   "source": [
    "* Natureview has a 24% mkt share in yogurt at natural foods\n",
    "* natural food stores will react negatively when the prices are 15% lower in a supermarket\n",
    "* so need to minimize channel conflict\n",
    "\n",
    "#### option 1\n",
    "* expand 6 SKUs of 8oz into 1 supermarket channel regions\n",
    "* 3 key arguments\n",
    "    * 8oz - largest dollar\n",
    "    * other natural food brands had expanded into supermarkets\n",
    "    * one of NVs major natural food competitors would soon try to expand into supermarkets\n",
    "* good upside - need to do this eventually\n",
    "* high risk and costs\n",
    "    * higher advertising, higher competition\n",
    "    \n",
    "#### option 2\n",
    "* expand 4 SKUs of 32oz \n",
    "* 3 key argumetns\n",
    "    * 32-oz generate above avg gross profit margin\n",
    "    * lower competition, higher competitive adv due to long shelf life\n",
    "    * lower expenses\n",
    "    \n",
    "    \n",
    "#### option 3\n",
    "* 2 SKUs of children's multipack into natural foods channel\n",
    "* 5 args:\n",
    "    * strong natural food relationships already\n",
    "    * NV prob didn't have resources or skill-set to sell effectively to supermarkets\n",
    "    * all natural ingredients provide perfect positioning \n",
    "    * good financial potential\n",
    "    * natural foods channelgorwing faster than supermarket channel"
   ]
  },
  {
   "cell_type": "markdown",
   "metadata": {},
   "source": []
  },
  {
   "cell_type": "markdown",
   "metadata": {},
   "source": []
  },
  {
   "cell_type": "markdown",
   "metadata": {},
   "source": []
  },
  {
   "cell_type": "markdown",
   "metadata": {},
   "source": []
  },
  {
   "cell_type": "markdown",
   "metadata": {},
   "source": []
  },
  {
   "cell_type": "markdown",
   "metadata": {},
   "source": []
  },
  {
   "cell_type": "markdown",
   "metadata": {},
   "source": []
  }
 ],
 "metadata": {
  "kernelspec": {
   "display_name": "Python 2",
   "language": "python",
   "name": "python2"
  },
  "language_info": {
   "codemirror_mode": {
    "name": "ipython",
    "version": 2
   },
   "file_extension": ".py",
   "mimetype": "text/x-python",
   "name": "python",
   "nbconvert_exporter": "python",
   "pygments_lexer": "ipython2",
   "version": "2.7.13"
  }
 },
 "nbformat": 4,
 "nbformat_minor": 2
}
