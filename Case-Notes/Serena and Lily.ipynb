{
 "cells": [
  {
   "cell_type": "markdown",
   "metadata": {},
   "source": [
    "### Early Days\n",
    "* incumbant was \"grandma\"-like, not modern..etc.\n",
    "* Serena made a bunch of listings of her vision for baby bedding\n",
    "* distributed catalogs to 400 retail stores\n",
    "* raised fudning, and had good revenue"
   ]
  },
  {
   "cell_type": "markdown",
   "metadata": {},
   "source": [
    "### Marta Calfee\n",
    "* hired ^ to do accounting\n",
    "    * Marta is scrappy and perfect for the startup job\n",
    "* hired Hanna Fordiss to manage S&L's catalogue production and circulation\n",
    "    * help sell diretly to consumers\n",
    "    * Hanna was Serena's friend, but people couldn't work w/ her, so Lily let her go\n",
    "* Marta was overseeing a lot of things\n",
    "    * Lily decided to distribute the functions to multiple people\n",
    "\n",
    "### Malcom Henshaw\n",
    "* took on capital, allocated 2 board seats\n",
    "* Malcom was a difficult board memeber and interfered\n",
    "* big conflict over if the company wanted to be profitable or grow\n",
    "    * Malcom wanted former\n",
    "    * group thought that \n"
   ]
  },
  {
   "cell_type": "markdown",
   "metadata": {},
   "source": [
    "### Robin Rice\n",
    "* Robin is a consultant who added a lot of value\n",
    "* Robin received an offer that was really good\n",
    "* Lily paniced and wanted to retain Robin"
   ]
  },
  {
   "cell_type": "markdown",
   "metadata": {},
   "source": []
  },
  {
   "cell_type": "markdown",
   "metadata": {},
   "source": []
  }
 ],
 "metadata": {
  "kernelspec": {
   "display_name": "Python 2",
   "language": "python",
   "name": "python2"
  },
  "language_info": {
   "codemirror_mode": {
    "name": "ipython",
    "version": 2
   },
   "file_extension": ".py",
   "mimetype": "text/x-python",
   "name": "python",
   "nbconvert_exporter": "python",
   "pygments_lexer": "ipython2",
   "version": "2.7.13"
  }
 },
 "nbformat": 4,
 "nbformat_minor": 2
}
