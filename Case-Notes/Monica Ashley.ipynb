{
 "cells": [
  {
   "cell_type": "markdown",
   "metadata": {},
   "source": [
    "[src](https://drive.google.com/file/d/0B1wE-E4VOzLCZmNrSzdOWGxzQ3M/view)"
   ]
  },
  {
   "cell_type": "markdown",
   "metadata": {},
   "source": [
    "* Heal-inc makes diagnostic equipments\n",
    "* did well because company wanted young employee's creativity, and gave them freedom\n",
    "* industry shift from big hospital equipments to small office ones\n",
    "* equipment is now more complicated for less educated personelles to use them\n",
    "\n",
    "### monica\n",
    "* caught president's attention by challenging his conclusion early on her career\n",
    "* took on project hippocrates \n",
    "* would not be easy to collaborate with Ralph Parker, who has a key technology, since he has a history of not collaborating\n",
    "* Monica heard about Parker's reputation and decided to not talk to Parker and just set out to prove him wrong\n",
    "* president, Doerr told Monica she's protected and to not worry\n",
    "* Monica took on the project, introduced the Taguchi method, a very disciplined and involved method from Japan\n",
    "    * people got uncomfortable\n",
    "* Monica's study group determined that no analog system is available inhouse, from Parker's group\n",
    "* the decision was revisited like 4 times, Parker had strong resistance\n",
    "* Dorr criticized Monica for her integrated appraoch for the first time\n",
    "* Dan, Monica's boss, didn't defend her\n",
    "* Monica humiliated parker in meetings\n",
    "* Kane, parker's replacement, had more conficts with Monica and her boss Dan"
   ]
  },
  {
   "cell_type": "markdown",
   "metadata": {},
   "source": [
    "### twisting the wind\n",
    "* Dorr attacked her in the next meeting about purchasing an outside unit again\n",
    "* Monica thought that Parker did not have the right data, \n",
    "    * Dorr once said that the company couldn't do without Parker\n",
    "* she hated how politics beat out substance in the company\n",
    "* Edison, the tech guru, betrayed her as well\n",
    "\n",
    "### Heat in the kitchen, put out fire\n",
    "* Monica assumed that Dorr wanted her to standup for what she believed in\n",
    "* Dorr said that she was disturbing the company's peace\n",
    "* Dan Stella told her that \"Don't you understand that you have to build all these relationships and deal with politics at the top?\"\n",
    "* Monica pressed on\n",
    "* Parker continued to say bad things"
   ]
  },
  {
   "cell_type": "markdown",
   "metadata": {},
   "source": [
    "### Sudden Death, Monica loses her position\n",
    "* Monica was told to get off, since she didn't manage relationships properly\n",
    "* Monica worked on minor projects after that\n",
    "* project lived on, and Parker got diminished\n",
    "* Monica still salty\n",
    "\n",
    "### Monica's reflections\n",
    "* too focused on data\n",
    "* should have dealt with Parker directly\n",
    "* need to build her confidence. Acted too confidently to overcompensate for her lack of\n",
    "* Kane on the other hand built lots of relationships\n",
    "* need both data and relationships\n",
    "* didn't follow up with people who could have been alies\n",
    "* use humor instead of just being a fighter?\n",
    "* "
   ]
  },
  {
   "cell_type": "markdown",
   "metadata": {},
   "source": []
  },
  {
   "cell_type": "markdown",
   "metadata": {},
   "source": []
  },
  {
   "cell_type": "markdown",
   "metadata": {},
   "source": []
  }
 ],
 "metadata": {
  "kernelspec": {
   "display_name": "Python 2",
   "language": "python",
   "name": "python2"
  },
  "language_info": {
   "codemirror_mode": {
    "name": "ipython",
    "version": 2
   },
   "file_extension": ".py",
   "mimetype": "text/x-python",
   "name": "python",
   "nbconvert_exporter": "python",
   "pygments_lexer": "ipython2",
   "version": "2.7.13"
  }
 },
 "nbformat": 4,
 "nbformat_minor": 2
}
