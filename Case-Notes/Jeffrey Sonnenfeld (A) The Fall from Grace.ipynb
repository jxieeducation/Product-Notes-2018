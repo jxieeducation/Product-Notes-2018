{
 "cells": [
  {
   "cell_type": "markdown",
   "metadata": {},
   "source": [
    "* Sonnenfeld - stuck up to Emory that he has a job offer at GeorgiaTech\n",
    "* Acused of vandalism, wrote a resignation\n",
    "* Emory ppl was out to get Sonnenfeld and succeeded, now he has no job, and people know about his allegations publically\n",
    "* Sonnenfeld believe that he's innocent"
   ]
  },
  {
   "cell_type": "markdown",
   "metadata": {},
   "source": [
    "### background\n",
    "* Harvard, BS, MBA, DBA - great teaching career\n",
    "* wrote a book called Hero's Farewell, interviews a lot of CEOs a lot of contacts\n",
    "* Emory - joined as full professor, and start a leadership center (CEO college)\n",
    "* huge connections to industry titans"
   ]
  },
  {
   "cell_type": "markdown",
   "metadata": {},
   "source": [
    "### difficulties at Emory\n",
    "* not successful in developing senior allies at the university\n",
    "* with success comes envy, some people were happy that he shared his contacts and everything, others found him snobby\n",
    "* a lot of competition with other biz schools, the Dean cut budget\n",
    "* Frank the dean had trouble raising funds, and Sonnenfeld and 3 others plotted a coup\n",
    "* Sonnenfeld tried to make a play with the Uni president, but failed\n",
    "* then got an offer from Georgia Tech"
   ]
  },
  {
   "cell_type": "markdown",
   "metadata": {},
   "source": []
  },
  {
   "cell_type": "markdown",
   "metadata": {},
   "source": []
  }
 ],
 "metadata": {
  "kernelspec": {
   "display_name": "Python 2",
   "language": "python",
   "name": "python2"
  },
  "language_info": {
   "codemirror_mode": {
    "name": "ipython",
    "version": 2
   },
   "file_extension": ".py",
   "mimetype": "text/x-python",
   "name": "python",
   "nbconvert_exporter": "python",
   "pygments_lexer": "ipython2",
   "version": "2.7.13"
  }
 },
 "nbformat": 4,
 "nbformat_minor": 2
}
