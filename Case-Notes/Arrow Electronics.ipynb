{
 "cells": [
  {
   "cell_type": "markdown",
   "metadata": {},
   "source": [
    "* express parts internet distribution service proposal\n",
    "    * internet based trading system\n",
    "* trade offs:\n",
    "    * quickly gain new customers\n",
    "    * relationship with existing customers\n",
    "* came down to:\n",
    "    * how AS create value for customers\n",
    "    * how value is different from what our suppliers can provide\n",
    "    * whether express can provide same value for more or less prices"
   ]
  },
  {
   "cell_type": "markdown",
   "metadata": {},
   "source": [
    "### Arrow Electronics\n",
    "* was common for semiconductor manufacturers to deal directly with OEMs (large customers)\n",
    "* suppliers franchised small numbers of distributors (e.g. Arrow) to manage sales to remaining customers \n",
    "* AE was a broadline distributor of electronic parts\n",
    "* 5 smaller companies, selling to different segments"
   ]
  },
  {
   "cell_type": "markdown",
   "metadata": {},
   "source": [
    "### Arrow / Schweber\n",
    "* 2B sales 1996\n",
    "* branches of sales orgs\n",
    "* 2 large suppliers:\n",
    "    * intel, x86 chips, didn't require value added progrmming\n",
    "    * Altera, 80% of sales had value added programming of chips\n",
    "* customers\n",
    "    * 56% of sales is from small to mid OEMs, too small to be serviced by suppliers\n",
    "    * provided, credits, programming\n",
    "    * another field is contract manufacturer market, made circuit boards and industrial computers\n",
    "    * CMs are very price sensitive, don't need engineering services\n",
    "* relationship with suppliers\n",
    "    * credit and distribution\n",
    "    * discounts on price\n",
    "        * design win - generated demand by helping customers engineer the right solution\n",
    "        * jump ball - small constant margin, for a proven product that doesn't need engineering\n",
    "* managing relationships with suppliers\n",
    "    * supplier's tells the customers distributor info (order matters)\n",
    "    * the order that suppliers inform distributors\n",
    "    * time suppliers take to reply to distributors about discounts\n",
    "* can use design wins to combat power of suppliers from jump ball\n",
    "    * need to have great relationships with customers and lock them in with suppliers\n"
   ]
  },
  {
   "cell_type": "markdown",
   "metadata": {},
   "source": [
    "### Arrow's selling effort\n",
    "* book and ship\n",
    "    * commodity products\n",
    "* value added\n",
    "    * generate demand and work on a good solution with value added products\n",
    "* phantom inventory"
   ]
  },
  {
   "cell_type": "markdown",
   "metadata": {},
   "source": [
    "### Relationships with customers\n",
    "* RFQuotes - build relational customers\n",
    "\n",
    "\n",
    "\n",
    "... skipped"
   ]
  },
  {
   "cell_type": "markdown",
   "metadata": {},
   "source": [
    "### A/S and internet\n",
    "* worked largely as a yellow page"
   ]
  },
  {
   "cell_type": "markdown",
   "metadata": {},
   "source": [
    "### Express parts\n",
    "* a new independent distributor, enable reach for A/S\n",
    "* workflow:\n",
    "    1. A/S full list of inventory and parts transmitted to Express nightly\n",
    "    2. Express' customers sign in and search part numbers, matching products that match and availability\n",
    "    3. customer orders, Express confirms credit and approves it\n",
    "    4. shippers pick up parts from distributor and ships directly\n",
    "    5. payment, after 6% fees for express, are made to the distributors\n"
   ]
  },
  {
   "cell_type": "markdown",
   "metadata": {},
   "source": [
    "### Decisions\n",
    "* optimistic, all transactional customers switch from A/S to Express\n",
    "* pessimistic, all transactional plus 40% relational switch to Express\n",
    "* loss of customers can be compensated by additional customers"
   ]
  },
  {
   "cell_type": "markdown",
   "metadata": {},
   "source": []
  },
  {
   "cell_type": "markdown",
   "metadata": {},
   "source": []
  }
 ],
 "metadata": {
  "kernelspec": {
   "display_name": "Python 2",
   "language": "python",
   "name": "python2"
  },
  "language_info": {
   "codemirror_mode": {
    "name": "ipython",
    "version": 2
   },
   "file_extension": ".py",
   "mimetype": "text/x-python",
   "name": "python",
   "nbconvert_exporter": "python",
   "pygments_lexer": "ipython2",
   "version": "2.7.13"
  }
 },
 "nbformat": 4,
 "nbformat_minor": 2
}
