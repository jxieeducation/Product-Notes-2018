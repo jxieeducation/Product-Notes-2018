{
 "cells": [
  {
   "cell_type": "markdown",
   "metadata": {},
   "source": [
    "* 2 obstacles to IPO\n",
    "    * broken forecast system\n",
    "    * inconsistent quarter-over-quarter rev growth\n",
    "* little relationship between forecasts by the sales team and operating plan by mgmt"
   ]
  },
  {
   "cell_type": "markdown",
   "metadata": {},
   "source": [
    "### founding story\n",
    "* develop solution for WAN - poor performance, IT complexity, high cost\n",
    "* built team and VC"
   ]
  },
  {
   "cell_type": "markdown",
   "metadata": {},
   "source": [
    "### GTM\n",
    "* focused on mid market because top end would not trust a startup\n",
    "* use VARs - felt that regional resellers were the best way\n",
    "* var's role is to assemble and sell systems solutions for particular applications\n",
    "    * e.g. VAR - build email system\n",
    "    * OptiGen - sells to VAR\n",
    "* one concern was if VAR can communicate technically to the IT team\n",
    "* hiring\n",
    "    * VP of sales - need someone who didn't burn cash and brought results "
   ]
  },
  {
   "cell_type": "markdown",
   "metadata": {},
   "source": [
    "### Early sales\n",
    "* build a sales model - paired sales rep and SE \n",
    "* aggressively recruited VARs \n",
    "* have to show VAR the money\n",
    "* forced VARs to log the deal - provided way steeper discounts\n",
    "* sales reps - looked for VARs for mid market, and did direct for top end"
   ]
  },
  {
   "cell_type": "markdown",
   "metadata": {},
   "source": [
    "### status\n",
    "* 2004 - 55 resellers - closed 24MM round\n",
    "* board has concerns if channels can scale\n",
    "* VP of sales were an innovator"
   ]
  },
  {
   "cell_type": "markdown",
   "metadata": {},
   "source": [
    "### failure to forecast\n",
    "* found that sales forecast and operating plan were separate!!!\n",
    "* existing plan was to sandbag forecast (use what's in the pipeline and not commit to a number)\n",
    "* huge spike at the end of quarter\n",
    "* hard to argue with success, because he is growing the numbners\n",
    "* in 2006, Q2 forecast failed\n",
    "* bottom up approach failed on prospects outside the pipeline\n"
   ]
  },
  {
   "cell_type": "markdown",
   "metadata": {},
   "source": [
    "## discussion\n",
    "* Would you have chosen a VAR, OEM or a direct sales go-to- market model for Optigen in the initial stages? Why?\n",
    "    * probably VAR - cheaper costs\n",
    "* What are the root causes and ramifications of the channel conflict between the direct sales organization and the channel? As VP Sales, how would you resolve the channel conflict?\n",
    "    * conflict of interest, going after the same customers, trying to cut out the channel\n",
    "    * resolve channel conflict by segmenting by market, product, geography...etc.\n",
    "* What are the root causes of the company’s broken forecasting process? How can the CEO and VP of Sales create a process that delivers accurate forecasts?\n",
    "    * VP of sales sandbagged\n",
    "    * usually CEO and VP needs to sit together, figure out what market to target, and commit to a number\n",
    "* What would explain the ‘back end loaded’ quarterly bookings and the inconsistent quarter over quarter growth? What would you do to address these problems?\n",
    "    * poor planning between operations and sales - operations lagged behind\n",
    "    * tight integration between all the parties\n",
    "* Should Klein have been fired earlier? If so, when? If firing the VP of Sales is what you propose, what is the best way for Campos to manage the transition?\n",
    "    * Yes, during 2005 - when the company thought that it'd be a problem\n",
    "* What sales channel model should Optigen use now? Why?\n",
    "    * direct, more control, large customer base"
   ]
  },
  {
   "cell_type": "code",
   "execution_count": null,
   "metadata": {
    "collapsed": true
   },
   "outputs": [],
   "source": []
  }
 ],
 "metadata": {
  "kernelspec": {
   "display_name": "Python 2",
   "language": "python",
   "name": "python2"
  },
  "language_info": {
   "codemirror_mode": {
    "name": "ipython",
    "version": 2
   },
   "file_extension": ".py",
   "mimetype": "text/x-python",
   "name": "python",
   "nbconvert_exporter": "python",
   "pygments_lexer": "ipython2",
   "version": "2.7.13"
  }
 },
 "nbformat": 4,
 "nbformat_minor": 2
}
