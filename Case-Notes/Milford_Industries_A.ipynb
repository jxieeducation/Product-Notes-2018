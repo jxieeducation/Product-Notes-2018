{
 "cells": [
  {
   "cell_type": "markdown",
   "metadata": {},
   "source": [
    "* Oates, district sales manager\n",
    "* Falzarano, sales manager \n",
    "* Newbury, Falzarano's replacement\n",
    "* Falzarano promised to provide files on the 8 sales people"
   ]
  },
  {
   "cell_type": "markdown",
   "metadata": {},
   "source": [
    "## Milford Industries\n",
    "* manufacturer of tools and accessories\n",
    "* customer segments\n",
    "    * industrial sales force \n",
    "    * private label sales force - large retail orgs\n",
    "    * commercial sales force - department stores\n",
    "* production line:\n",
    "    * stationary metal working tools\n",
    "        * not gift oriented or promotable\n",
    "    * stationary woodworking\n",
    "        * promotable\n",
    "    * portable power tools\n",
    "        * highly promotable\n",
    "    * hand tools\n",
    "        * some are promotable\n",
    "    * masons\n",
    "        * seasonal\n",
    "    * measuring instruments\n",
    "        * promotable\n",
    "* "
   ]
  },
  {
   "cell_type": "markdown",
   "metadata": {},
   "source": [
    "## Sales people profile\n",
    "* Alderson: \n",
    "    * young\n",
    "    * bad territory prior\n",
    "    * not very aggressive\n",
    "* Burke\n",
    "    * solid\n",
    "    * refuses to sell based on merchandising programs and most profitable items\n",
    "    * 15 years\n",
    "    * a bit lazy\n",
    "* Caplan\n",
    "    * unwilling to work really ahrd\n",
    "    * focused on opening large accounts without success\n",
    "    * **problem**\n",
    "* Durfee\n",
    "    * all in on small accounts, not large\n",
    "* Eaton\n",
    "    * popular, tenured, but on the decline\n",
    "    * reacted angrily to decreasing territory\n",
    "* Furness\n",
    "    * was a good salesperson\n",
    "    * suffering atm from personal problems\n",
    "* Gibson:\n",
    "    * losing interest in milford due to real estate investment\n",
    "    * 20 years work history, good performer\n",
    "* Harlow\n",
    "    * avg\n",
    "    * 12 years tenure"
   ]
  },
  {
   "cell_type": "markdown",
   "metadata": {},
   "source": []
  }
 ],
 "metadata": {
  "kernelspec": {
   "display_name": "Python 2",
   "language": "python",
   "name": "python2"
  },
  "language_info": {
   "codemirror_mode": {
    "name": "ipython",
    "version": 2
   },
   "file_extension": ".py",
   "mimetype": "text/x-python",
   "name": "python",
   "nbconvert_exporter": "python",
   "pygments_lexer": "ipython2",
   "version": "2.7.13"
  }
 },
 "nbformat": 4,
 "nbformat_minor": 2
}
