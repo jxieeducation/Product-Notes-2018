{
 "cells": [
  {
   "cell_type": "markdown",
   "metadata": {},
   "source": [
    "[adnetwork and exchange](http://blog.whatrunswhere.com/media-buying-101-ad-networks-ad-exchanges/)"
   ]
  },
  {
   "cell_type": "markdown",
   "metadata": {},
   "source": [
    "### ad network\n",
    "* aggregate ad inventroy across a lot of publishers, marks up the inventory and sell to advertisers\n",
    "* e.g. Google AdSense, Media.net, BuySellAds, Conversant\n",
    "* aggregate data, forecast amount of inventory available, advertisers then purchase them\n",
    "* real estate agents, large publishers sell stuff that they didn't sell through the network\n",
    "* types of network\n",
    "    * targeted network\n",
    "        * advertisers buy by contextual data\n",
    "    * blind network\n",
    "        * buy blind at lower price, but loses some control over where stuff is served\n",
    "    * vertical network\n",
    "        * specific genre\n",
    "* benefits\n",
    "    * for advertisers, extend audience reach by brokering higher volumes of ad placements in a more targeted manner\n",
    "        * can't do direct because too many direct buy relationships to manage\n",
    "    * for publishers, sell inventory efficiently\n",
    "* cons:\n",
    "    * hard to forecast exact inventroy \n",
    "    * a chain of networks slow stuff down\n",
    "    * for advertisers, convoluted, don't know the true flow\n",
    "    * for publishers, convoluted, can't tell who bought the inventory\n",
    "\n",
    "### ad exchange\n",
    "* real time bidding\n",
    "* private exchange - to have graeter control over cost of inventory and who can buy it"
   ]
  },
  {
   "cell_type": "markdown",
   "metadata": {},
   "source": [
    "[direct vs programmtic media buying](http://www.jacksonmg.com/blog/direct-media-buying-vs-programmatic-buying/)"
   ]
  },
  {
   "cell_type": "markdown",
   "metadata": {},
   "source": [
    "### direct buying\n",
    "* pros:\n",
    "    * negotiate better rates\n",
    "    * relationships and human interactions\n",
    "    * deep integration, can buy in bulk\n",
    "* cons:\n",
    "    * higher CPM\n",
    "\n",
    "### programmatic\n",
    "* less control\n",
    "* more efficiency"
   ]
  },
  {
   "cell_type": "markdown",
   "metadata": {},
   "source": []
  }
 ],
 "metadata": {
  "kernelspec": {
   "display_name": "Python 2",
   "language": "python",
   "name": "python2"
  },
  "language_info": {
   "codemirror_mode": {
    "name": "ipython",
    "version": 2
   },
   "file_extension": ".py",
   "mimetype": "text/x-python",
   "name": "python",
   "nbconvert_exporter": "python",
   "pygments_lexer": "ipython2",
   "version": "2.7.13"
  }
 },
 "nbformat": 4,
 "nbformat_minor": 2
}
