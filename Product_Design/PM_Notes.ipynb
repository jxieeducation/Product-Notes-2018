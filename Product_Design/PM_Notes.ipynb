{
 "cells": [
  {
   "cell_type": "markdown",
   "metadata": {},
   "source": [
    "* global vs local metrics\n",
    "* global ones are more important for decision making\n",
    "* metrics can be transactional or engagement based\n",
    "    * transactional focuses on funnel optimization"
   ]
  },
  {
   "cell_type": "markdown",
   "metadata": {},
   "source": [
    "### types of problems\n",
    "* product\n",
    "    * design X for Y\n",
    "    * how to improve product\n",
    "* analytical\n",
    "    * metrics and math\n",
    "* technical\n",
    "    * what factors are important?\n",
    "    * SQL"
   ]
  },
  {
   "cell_type": "markdown",
   "metadata": {},
   "source": [
    "### Design X for Y\n",
    "1. clarification first, specify the problem\n",
    "2. start with users\n",
    "3. list ideas and features\n",
    "(be creative)"
   ]
  },
  {
   "cell_type": "markdown",
   "metadata": {},
   "source": [
    "** Speak in bullet points**"
   ]
  },
  {
   "cell_type": "markdown",
   "metadata": {},
   "source": [
    "### How to improve X?\n",
    "1. current visitor?\n",
    "2. top metrics\n",
    "3. how to experiemnt?\n",
    "\n",
    "** know some products**"
   ]
  },
  {
   "cell_type": "markdown",
   "metadata": {},
   "source": [
    "### Metrics (usually comes as a follow up on improve X)\n",
    "1. think MVP\n",
    "2. who to test on?\n",
    "3. what metrics are you trying to move?"
   ]
  },
  {
   "cell_type": "markdown",
   "metadata": {},
   "source": [
    "### Analytics\n",
    "1. full formula first\n",
    "2. calculate\n",
    "3. gut check\n",
    "4. stress test"
   ]
  }
 ],
 "metadata": {
  "kernelspec": {
   "display_name": "Python 2",
   "language": "python",
   "name": "python2"
  },
  "language_info": {
   "codemirror_mode": {
    "name": "ipython",
    "version": 2
   },
   "file_extension": ".py",
   "mimetype": "text/x-python",
   "name": "python",
   "nbconvert_exporter": "python",
   "pygments_lexer": "ipython2",
   "version": "2.7.13"
  }
 },
 "nbformat": 4,
 "nbformat_minor": 2
}
