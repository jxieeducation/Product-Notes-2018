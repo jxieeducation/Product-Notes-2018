{
 "cells": [
  {
   "cell_type": "markdown",
   "metadata": {},
   "source": [
    "### Ramtin Naimi - Abstract Ventures Founder"
   ]
  },
  {
   "cell_type": "markdown",
   "metadata": {},
   "source": [
    "* figure out how to add value to build a relationship\n",
    "* philanthropy - hard in the bay area - a lot of money locked in PE\n",
    "* hustle story: hedge fund --> VC\n",
    "    * no one gave him opportunity, because hedge funds don't require networking\n",
    "    * he went out for unique deals and brought on other VCs - Bootstrapped his way into VC\n",
    "* decks - skip straight to the metrics\n",
    "* consumer companies require less capital than enterprise\n",
    "* VC is all about networking\n",
    "* **A good pitch lets your audience clearly explain what it is that you are trying to pitch**"
   ]
  },
  {
   "cell_type": "markdown",
   "metadata": {},
   "source": []
  },
  {
   "cell_type": "markdown",
   "metadata": {},
   "source": [
    "### Peter Fishman - Eaze - Chief Strategy Officer"
   ]
  },
  {
   "cell_type": "markdown",
   "metadata": {},
   "source": [
    "* analytics for Eaze - delivery network\n",
    "* Eaze has employees, instead of 1099s temporary contractors\n",
    "* a lot of regulations changes all the time - tech to solve them\n",
    "* Billboard advertising\n",
    "    * physical regulations\n",
    "* vertically integrated on demand market place - (basically market place makes its own products)\n",
    "* data as a strategy"
   ]
  },
  {
   "cell_type": "code",
   "execution_count": null,
   "metadata": {
    "collapsed": true
   },
   "outputs": [],
   "source": []
  }
 ],
 "metadata": {
  "kernelspec": {
   "display_name": "Python 2",
   "language": "python",
   "name": "python2"
  },
  "language_info": {
   "codemirror_mode": {
    "name": "ipython",
    "version": 2
   },
   "file_extension": ".py",
   "mimetype": "text/x-python",
   "name": "python",
   "nbconvert_exporter": "python",
   "pygments_lexer": "ipython2",
   "version": "2.7.13"
  }
 },
 "nbformat": 4,
 "nbformat_minor": 2
}
