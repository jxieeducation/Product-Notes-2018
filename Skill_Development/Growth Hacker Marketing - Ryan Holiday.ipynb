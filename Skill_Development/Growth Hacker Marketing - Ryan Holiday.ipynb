{
 "cells": [
  {
   "cell_type": "markdown",
   "metadata": {},
   "source": [
    "### Intro\n",
    "* growth hacking = marketing + product\n",
    "* e.g. Hotmail \"sent by hotmail\" ad\n",
    "* focus on \"who\" and \"where\" scientifically"
   ]
  },
  {
   "cell_type": "markdown",
   "metadata": {},
   "source": [
    "### Product Market Fit\n",
    "* marketing is useless without PMF\n",
    "* ask yourself, would Oprah be happy to give it out for free to users?"
   ]
  },
  {
   "cell_type": "markdown",
   "metadata": {},
   "source": [
    "### Finding Your Growth Hack\n",
    "* Try to make the NYTimes of your niche\n",
    "* find something new and exciting - explode it in the market\n",
    "* can be half engineering, half biz\n",
    "* growth ideas:\n",
    "    * https://www.helpareporter.com/\n",
    "    * post\n",
    "    * email"
   ]
  },
  {
   "cell_type": "markdown",
   "metadata": {},
   "source": [
    "### Going viral\n",
    "* virality is asking someone to spend social capital recommending or linking or posting about you for free\n",
    "* Groupon - if you can convince 3 friends to try it out, it's free\n",
    "* publicness - being available and seen by people (like politics...)\n",
    "* "
   ]
  },
  {
   "cell_type": "markdown",
   "metadata": {},
   "source": []
  }
 ],
 "metadata": {
  "kernelspec": {
   "display_name": "Python 2",
   "language": "python",
   "name": "python2"
  },
  "language_info": {
   "codemirror_mode": {
    "name": "ipython",
    "version": 2
   },
   "file_extension": ".py",
   "mimetype": "text/x-python",
   "name": "python",
   "nbconvert_exporter": "python",
   "pygments_lexer": "ipython2",
   "version": "2.7.13"
  }
 },
 "nbformat": 4,
 "nbformat_minor": 2
}
