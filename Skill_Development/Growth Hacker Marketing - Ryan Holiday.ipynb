{
 "cells": [
  {
   "cell_type": "markdown",
   "metadata": {},
   "source": [
    "### Intro\n",
    "* growth hacking = marketing + product\n",
    "* e.g. Hotmail \"sent by hotmail\" ad\n",
    "* focus on \"who\" and \"where\" scientifically"
   ]
  },
  {
   "cell_type": "markdown",
   "metadata": {},
   "source": [
    "### Product Market Fit\n",
    "* marketing is useless without PMF\n",
    "* ask yourself, would Oprah be happy to give it out for free to users?"
   ]
  },
  {
   "cell_type": "markdown",
   "metadata": {},
   "source": [
    "### Finding Your Growth Hack\n",
    "* Try to make the NYTimes of your niche\n",
    "* find something new and exciting - explode it in the market\n",
    "* can be half engineering, half biz\n",
    "* growth ideas:\n",
    "    * https://www.helpareporter.com/\n",
    "    * post\n",
    "    * email"
   ]
  },
  {
   "cell_type": "markdown",
   "metadata": {},
   "source": [
    "### Going viral\n",
    "* virality is asking someone to spend social capital recommending or linking or posting about you for free\n",
    "* Groupon - if you can convince 3 friends to try it out, it's free\n",
    "* publicness - being available and seen by people (like politics...)\n",
    "    * think hotmail\n",
    "* compelling reason for users to pass it around and share it"
   ]
  },
  {
   "cell_type": "markdown",
   "metadata": {},
   "source": [
    "### Retention and Optimization\n",
    "* figure out your most important metric for growth\n",
    "    * e.g. how many users a new twitter user followed on the first day\n",
    "* be careful of vanity metrics tho\n",
    "    * groupon fked up\n",
    "* measure churn - its a function of how good your product is to your users\n",
    "* don't just focus on driving new users, also focus on driving new biz from existing users\n",
    "* ROI, not blind new user acquisition"
   ]
  },
  {
   "cell_type": "markdown",
   "metadata": {},
   "source": [
    "### Putting lessons into practice\n",
    "* product market fit\n",
    "    * using AB testing to figure out content of 4 hour chef\n",
    "* growth and retention\n",
    "    * work with bloggers - fast and trackable\n",
    "    * when product is relevant and designed for a specific audience, bloggers love to write about you\n",
    "* virality\n",
    "    * bittorrent - bundle of content from books\n",
    "    * "
   ]
  },
  {
   "cell_type": "markdown",
   "metadata": {},
   "source": []
  }
 ],
 "metadata": {
  "kernelspec": {
   "display_name": "Python 2",
   "language": "python",
   "name": "python2"
  },
  "language_info": {
   "codemirror_mode": {
    "name": "ipython",
    "version": 2
   },
   "file_extension": ".py",
   "mimetype": "text/x-python",
   "name": "python",
   "nbconvert_exporter": "python",
   "pygments_lexer": "ipython2",
   "version": "2.7.13"
  }
 },
 "nbformat": 4,
 "nbformat_minor": 2
}
