{
 "cells": [
  {
   "cell_type": "markdown",
   "metadata": {},
   "source": [
    "src: Lynda"
   ]
  },
  {
   "cell_type": "markdown",
   "metadata": {},
   "source": [
    "* architecture\n",
    "    * account\n",
    "        * campaign\n",
    "            * adgroup\n",
    "                * keywords\n",
    "                * ads\n",
    "* text ads: 2 headlines + description\n",
    "\n",
    "### define your business \n",
    "* creating a goal:\n",
    "    * objective - online sales\n",
    "    * motivation - I want to buy (there are 4 in total!)\n",
    "    * effort - sell mugs\n",
    "    * KPI - 20 mugs by October\n",
    "* Motivations:\n",
    "    * I want to know\n",
    "    * I want to go\n",
    "    * I want to do\n",
    "    * I want to buy"
   ]
  },
  {
   "cell_type": "markdown",
   "metadata": {},
   "source": [
    "### Researching your keywords\n",
    "* use keywords that customers use e.g. low fare vs cheap flights\n",
    "* group keywords by theme\n",
    "* keyword planner\n",
    "    * brainstorm initial ideas\n",
    "    * keyword planner\n",
    "    * review data with keywords\n",
    "* brainstorm \n",
    "    * Google dropdown to see what ppl are interested in\n",
    "    * e.g. san francisco hotels -> deals / free parking (get ideas)\n",
    "* write ads based on what other ads are there\n",
    "    * figure out USP\n",
    "* match types:\n",
    "    * broad match - need core ideas but braod\n",
    "    * broad match modifier - use plus to apply modifier (no synonyms)\n",
    "    * phrase match - \"women's hat\" - must be in specified order\n",
    "    * exact match - [women's hat] - won't match girl's hat\n",
    "    * negative match - women's hat -women --> won't match women's hat, but will match girl's hat"
   ]
  },
  {
   "cell_type": "markdown",
   "metadata": {},
   "source": []
  },
  {
   "cell_type": "markdown",
   "metadata": {},
   "source": []
  }
 ],
 "metadata": {
  "kernelspec": {
   "display_name": "Python 2",
   "language": "python",
   "name": "python2"
  },
  "language_info": {
   "codemirror_mode": {
    "name": "ipython",
    "version": 2
   },
   "file_extension": ".py",
   "mimetype": "text/x-python",
   "name": "python",
   "nbconvert_exporter": "python",
   "pygments_lexer": "ipython2",
   "version": "2.7.13"
  }
 },
 "nbformat": 4,
 "nbformat_minor": 2
}
