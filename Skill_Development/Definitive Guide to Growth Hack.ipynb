{
 "cells": [
  {
   "cell_type": "markdown",
   "metadata": {},
   "source": [
    "[src](https://markstaton.files.wordpress.com/2013/11/the-definitive-guide-to-growth-hack.pdf)"
   ]
  },
  {
   "cell_type": "markdown",
   "metadata": {},
   "source": [
    "* funnel\n",
    "    * getting ppl into funnel\n",
    "        * pull tactics vs push tactics vs product tactics\n",
    "        * pull - has a reason to come\n",
    "        * push - no reason, e.g. preroll ads\n",
    "        * product - use product\n",
    "    * activation - getting them to take an action\n",
    "    * retention - might be most important\n",
    "* history\n",
    "    * Sean Ellis - 2010 - coined the term\n",
    "    * Airbnb - used its own product as its distribution channel\n",
    "    * most growth mechanisms have a definite lifespan"
   ]
  },
  {
   "cell_type": "markdown",
   "metadata": {},
   "source": [
    "* profile of a growth hacker\n",
    "    * look at where the funnel sucks - fix it\n",
    "    * soemtimes it takes 1000x cuts to add up to success"
   ]
  },
  {
   "cell_type": "markdown",
   "metadata": {},
   "source": [
    "* growth hacking process\n",
    "    * define actionable goal - and focus only on that\n",
    "        * be specific, e.g. don't say increase DAU by 2x, say I will improve the # of content creation by 2x because it drives retention\n",
    "    * impl analytics\n",
    "    * leverage strengths\n",
    "    * execute experiment\n",
    "    * optimize experiment"
   ]
  },
  {
   "cell_type": "markdown",
   "metadata": {},
   "source": [
    "* growth hacking funnel\n",
    "    * user - a member that uses your product regularly, via the activation process\n",
    "    * let funnel set priorities\n",
    "    * product market fit - **40% of users will be very disapppointed if your product disappeared**\n",
    "    * user funnel - acquisition, activation, retention, referral, revenue"
   ]
  },
  {
   "cell_type": "markdown",
   "metadata": {},
   "source": [
    "* pull tactics for getting visitors\n",
    "    * 3 Ps of getting visitors - pull, push, product\n",
    "    * pull \n",
    "        * provide something of value\n",
    "        * blogging (guest blog -> then blog)\n",
    "        * podcasting\n",
    "        * ebooks, guides, whitepapers (high perceived value, can ask for emails - think mailchimp)\n",
    "        * infographics\n",
    "        * webinars \n",
    "        * conference\n",
    "        * SEO\n",
    "        * **LOPA - leverage other people's audiences**"
   ]
  },
  {
   "cell_type": "markdown",
   "metadata": {},
   "source": [
    "* push tactics for getting visitors\n",
    "    * ads\n",
    "    * promo swaps - each comapyn sends emails to others OR giveaway\n",
    "    * affiliates - **can use affiliate networks!!** e.g. CJ.com\n",
    "    * direct sales"
   ]
  },
  {
   "cell_type": "markdown",
   "metadata": {},
   "source": [
    "* product tactics for getting visitors\n",
    "    * api integrations - e.g. Facebook spotify\n",
    "    * backlinks -e.g. hotmail or widgets / popups\n",
    "    * incentives - e.g. dropbox\n",
    "    * organic - e.g. word of mouth"
   ]
  },
  {
   "cell_type": "markdown",
   "metadata": {},
   "source": []
  }
 ],
 "metadata": {
  "kernelspec": {
   "display_name": "Python 2",
   "language": "python",
   "name": "python2"
  },
  "language_info": {
   "codemirror_mode": {
    "name": "ipython",
    "version": 2
   },
   "file_extension": ".py",
   "mimetype": "text/x-python",
   "name": "python",
   "nbconvert_exporter": "python",
   "pygments_lexer": "ipython2",
   "version": "2.7.13"
  }
 },
 "nbformat": 4,
 "nbformat_minor": 2
}
