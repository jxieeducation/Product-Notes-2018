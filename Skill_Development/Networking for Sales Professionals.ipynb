{
 "cells": [
  {
   "cell_type": "markdown",
   "metadata": {},
   "source": [
    "src: [Lynda](https://www.lynda.com/Business-Skills-tutorials/Networking-Sales-Professionals/651189-2.html)"
   ]
  },
  {
   "cell_type": "markdown",
   "metadata": {},
   "source": [
    "* network with ppl who gives you unique access, not people that you already know\n",
    "* weak ties are what makes your network strong\n",
    "* allocate time each week\n",
    "    * nurturing existing - 1/12th of your network every month\n",
    "    * new networks \n",
    "* networking is a long game\n",
    "* ask for referral \n",
    "\n",
    "### 7 types of relationships:\n",
    "* strengthen existing relationships\n",
    "* prospects - ppl who could be a customer\n",
    "* mentors - ppl who you can learn from\n",
    "* peers \n",
    "* referral sources - upstream (e.g. decorators gets recommended by architects)\n",
    "* support sources - downstream (e.g. decorators recommend handyman)\n",
    "* mentees - help clarify your own strategy\n",
    "\n",
    "### targeted vs general networking\n",
    "* join 1 or 2 networking organizations\n",
    "* start by asking how you can help them\n",
    "* invite important network to coffee"
   ]
  },
  {
   "cell_type": "markdown",
   "metadata": {},
   "source": [
    "## Building Your Network\n",
    "* start by working backward from goal\n",
    "* examine networking channels every 6-12 months\n",
    "\n",
    "## OnGoing Network\n",
    "* block time on your calendar to nurture network\n",
    "* divide contacts into tiers - 10% strategic - 30% mid - 60% low\n",
    "* take notes about the person\n",
    "* follow up notes:\n",
    "    * where you met\n",
    "    * what you talked about\n",
    "    * what you had in common\n",
    "    * summarize future steps\n",
    "    * offer to help\n",
    "* reasons to reach out:\n",
    "    * change at contact's company\n",
    "    * sports\n",
    "    * bump into mutual acquitance\n",
    "    * same event\n",
    "    * hear of job opening\n",
    "    * (interested in them and want the best for their wellbeing)\n",
    "* how to ask for referrals\n",
    "    * be direct\n",
    "    * state the benefit\n",
    "    * make it easy (happy to draft an email and a little background)\n",
    "    * also follow up with thanks later\n",
    "* Linkedin prescence"
   ]
  },
  {
   "cell_type": "markdown",
   "metadata": {},
   "source": []
  },
  {
   "cell_type": "markdown",
   "metadata": {},
   "source": []
  },
  {
   "cell_type": "markdown",
   "metadata": {},
   "source": []
  },
  {
   "cell_type": "markdown",
   "metadata": {},
   "source": []
  }
 ],
 "metadata": {
  "kernelspec": {
   "display_name": "Python 2",
   "language": "python",
   "name": "python2"
  },
  "language_info": {
   "codemirror_mode": {
    "name": "ipython",
    "version": 2
   },
   "file_extension": ".py",
   "mimetype": "text/x-python",
   "name": "python",
   "nbconvert_exporter": "python",
   "pygments_lexer": "ipython2",
   "version": "2.7.13"
  }
 },
 "nbformat": 4,
 "nbformat_minor": 2
}
