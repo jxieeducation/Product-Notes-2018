{
 "cells": [
  {
   "cell_type": "markdown",
   "metadata": {},
   "source": [
    "[Lynda](https://www.lynda.com/MyPlaylist/Watch/17039250/733107?autoplay=true)"
   ]
  },
  {
   "cell_type": "markdown",
   "metadata": {},
   "source": [
    "* modern selling\n",
    "    * target customers via digital platforms\n",
    "    * understand their needs through social interactions\n",
    "    * engage to build relationships\n",
    "    * **NOTE!! You can practice this in your network**"
   ]
  },
  {
   "cell_type": "markdown",
   "metadata": {},
   "source": [
    "### setting up sales navigator\n",
    "* setup\n",
    "    * select company size\n",
    "    * select biz functions to target (e.g. purchasing, legal, administrative)\n",
    "* sales navigator newsfeed\n",
    "    * accounts news\n",
    "    * leads...etc.\n",
    "* essentially know what's happening with the leads and accounts\n",
    "* CRM integration for accounts and leads"
   ]
  },
  {
   "cell_type": "markdown",
   "metadata": {},
   "source": [
    "### Accounts\n",
    "* add companies into accounts\n",
    "* get updates\n",
    "* add tags to accounts"
   ]
  },
  {
   "cell_type": "markdown",
   "metadata": {},
   "source": [
    "### Prospects\n",
    "* searches (recurring)\n",
    "    * total results\n",
    "    * changed jobs recently\n",
    "    * warm intro (team)\n",
    "    * mentioned in the news recently\n",
    "    * follows ur org\n",
    "* unlock full profile that's outside of network"
   ]
  },
  {
   "cell_type": "markdown",
   "metadata": {},
   "source": [
    "### Member Profiles\n",
    "* tags \n",
    "* introduction\n",
    "* how ot ask for referral\n",
    "    * be direct\n",
    "    * explain why you'd like intro\n",
    "        * why is it a win-win?\n",
    "    * give person an out\n",
    "    * ghost-write the intro message for the referrer"
   ]
  },
  {
   "cell_type": "markdown",
   "metadata": {},
   "source": [
    "### InMail\n",
    "* msg to another linkedin msg without connection\n",
    "* inmail - 13-18% reply rate, as opposed to email 3%\n",
    "* how to connect with someone else\n",
    "    * compelling subject line\n",
    "    * brief\n",
    "    * personalized to the client\n",
    "    * clear call to action\n",
    "    * **do not have full sales pitch**"
   ]
  },
  {
   "cell_type": "markdown",
   "metadata": {},
   "source": [
    "### Insights with sales updates\n",
    "* account shares\n",
    "* lead shares"
   ]
  },
  {
   "cell_type": "markdown",
   "metadata": {},
   "source": [
    "### PointDrive\n",
    "* see how ppl interactive with content"
   ]
  },
  {
   "cell_type": "code",
   "execution_count": null,
   "metadata": {
    "collapsed": true
   },
   "outputs": [],
   "source": []
  }
 ],
 "metadata": {
  "kernelspec": {
   "display_name": "Python 2",
   "language": "python",
   "name": "python2"
  },
  "language_info": {
   "codemirror_mode": {
    "name": "ipython",
    "version": 2
   },
   "file_extension": ".py",
   "mimetype": "text/x-python",
   "name": "python",
   "nbconvert_exporter": "python",
   "pygments_lexer": "ipython2",
   "version": "2.7.13"
  }
 },
 "nbformat": 4,
 "nbformat_minor": 2
}
