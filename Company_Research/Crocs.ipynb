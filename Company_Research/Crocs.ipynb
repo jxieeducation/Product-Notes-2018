{
 "cells": [
  {
   "cell_type": "markdown",
   "metadata": {},
   "source": [
    "[src](https://www.investordeck.com/company/crocs/5abf58d58f6c0a4cf89e3db7)"
   ]
  },
  {
   "cell_type": "markdown",
   "metadata": {},
   "source": [
    "### Brand Introduction\n",
    "* unmistakable shoes\n",
    "* 1B in sales\n",
    "* multichannel distribution model\n",
    "    * wholesale\n",
    "    * retail\n",
    "    * ecommerce\n",
    "* focused on wholesale and ecommerce going forward\n",
    "* growth opportunity for people who are considerers and neutrals\n",
    "* target consumers:\n",
    "    * feels good\n",
    "        * A 35 - 54\n",
    "        * 62% female, 66% kids, 85% married\n",
    "    * explorer\n",
    "        * A 21 - 34"
   ]
  },
  {
   "cell_type": "markdown",
   "metadata": {},
   "source": [
    "### Repositioning for long term success\n",
    "1. reduce costs\n",
    "    * close down bad stores\n",
    "2. improve quality of rev\n",
    "3. sustainable, profitable growth\n",
    "    * focus on sandels\n",
    "    * embrace ecommerce"
   ]
  },
  {
   "cell_type": "markdown",
   "metadata": {},
   "source": []
  }
 ],
 "metadata": {
  "kernelspec": {
   "display_name": "Python 2",
   "language": "python",
   "name": "python2"
  },
  "language_info": {
   "codemirror_mode": {
    "name": "ipython",
    "version": 2
   },
   "file_extension": ".py",
   "mimetype": "text/x-python",
   "name": "python",
   "nbconvert_exporter": "python",
   "pygments_lexer": "ipython2",
   "version": "2.7.13"
  }
 },
 "nbformat": 4,
 "nbformat_minor": 2
}
