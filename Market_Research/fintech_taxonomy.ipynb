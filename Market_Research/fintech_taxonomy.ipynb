{
 "cells": [
  {
   "cell_type": "markdown",
   "metadata": {},
   "source": [
    "[src](https://www.forbes.com/sites/learnvest/2016/07/26/whats-the-difference-between-a-bank-credit-union-and-brokerage/#145efbf43222)"
   ]
  },
  {
   "cell_type": "markdown",
   "metadata": {},
   "source": [
    "### retail banking\n",
    "* BoA, handles everyday needs - withdrawal, checking, credit card ...etc."
   ]
  },
  {
   "cell_type": "markdown",
   "metadata": {},
   "source": [
    "### commercial banking\n",
    "* a retail bank is usually part of something bigger that offers financial services\n",
    "* services include loans, credit card, mortgage\n",
    "* provides it to both individuals and businesses"
   ]
  },
  {
   "cell_type": "markdown",
   "metadata": {},
   "source": [
    "### credit union\n",
    "* same as retail banking with the services\n",
    "* not for profit\n",
    "* have a field of membership, e.g. same company, geo location...etc."
   ]
  },
  {
   "cell_type": "markdown",
   "metadata": {},
   "source": [
    "### brokerage firm\n",
    "* financial institution that involves trade of securities\n",
    "* full service brokerage provides more services, e.g. market analysis, research, tax advice..etc."
   ]
  },
  {
   "cell_type": "markdown",
   "metadata": {},
   "source": []
  },
  {
   "cell_type": "markdown",
   "metadata": {},
   "source": [
    "[src](https://www.forbes.com/sites/laurengensler/2018/02/13/forbes-fintech-50-2018-the-future-of-personal-finance/#6abef58819cf)"
   ]
  },
  {
   "cell_type": "markdown",
   "metadata": {},
   "source": [
    "### Top FinTech\n",
    "* CreditKarma\n",
    "    * free credit score screening, monitoring\n",
    "    * recommendations on credit card and loans\n",
    "* Earnin\n",
    "    * allows hourly workers to tap into their pay before payday\n",
    "* Lemonade\n",
    "    * insurance to urban renters\n",
    "* metromile\n",
    "    * car insurance based on a dongle plugged into car\n",
    "* Qapital\n",
    "    * prods millenials to save with custom triggers"
   ]
  },
  {
   "cell_type": "markdown",
   "metadata": {},
   "source": [
    "# How to categorize FinTech?"
   ]
  },
  {
   "cell_type": "markdown",
   "metadata": {},
   "source": [
    "[src](https://bankinnovation.net/2016/04/how-we-define-categorize-fintech/)"
   ]
  },
  {
   "cell_type": "markdown",
   "metadata": {},
   "source": [
    "* financial services is a big percent of GDP, 7% US\n",
    "* 5 categories:\n",
    "    * digital wealth management\n",
    "    * small business finance\n",
    "    * consumer finance (also underbanked)\n",
    "    * insurance\n",
    "    * tech in fintech\n",
    "* digital wealth management\n",
    "    * Exchanges, brokers & dealers, investment banks, asset managers, private banks, retail and commercial banks\n",
    "* small biz finance\n",
    "    * between big business and consumer\n",
    "    * services for small biz: debt, equity, payments, foreign exchange\n",
    "* consumer finance (underbanked)\n",
    "    * help underbanked / developing countries\n",
    "* insurance\n",
    "    * insurance has 2 sides:\n",
    "        * one side takes in premium and pays claims\n",
    "        * other side invests in small amts of capital\n",
    "* tech in finance\n",
    "    * blockchain, AI, mobile tech"
   ]
  },
  {
   "cell_type": "code",
   "execution_count": null,
   "metadata": {
    "collapsed": true
   },
   "outputs": [],
   "source": []
  }
 ],
 "metadata": {
  "kernelspec": {
   "display_name": "Python 2",
   "language": "python",
   "name": "python2"
  },
  "language_info": {
   "codemirror_mode": {
    "name": "ipython",
    "version": 2
   },
   "file_extension": ".py",
   "mimetype": "text/x-python",
   "name": "python",
   "nbconvert_exporter": "python",
   "pygments_lexer": "ipython2",
   "version": "2.7.13"
  }
 },
 "nbformat": 4,
 "nbformat_minor": 2
}
