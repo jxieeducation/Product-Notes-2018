{
 "cells": [
  {
   "cell_type": "markdown",
   "metadata": {},
   "source": [
    "### Digital Transformation in Retail\n",
    "* technology uses in retail\n",
    "    * sourcing and supply chain\n",
    "    * new product dev and introduction\n",
    "    * merchandising and marketing\n",
    "    * customer relationships, channels, touch pts\n",
    "    * stores and POS\n",
    "\n",
    "### Experiential Retail\n",
    "* new types of services in retail\n",
    "\n",
    "### Product Information Management systems\n",
    "* provide much richer product information to support experiential retail\n",
    "* traditionally only tracks supply side\n",
    "* must also do sell-side"
   ]
  },
  {
   "cell_type": "markdown",
   "metadata": {},
   "source": []
  },
  {
   "cell_type": "markdown",
   "metadata": {},
   "source": []
  },
  {
   "cell_type": "markdown",
   "metadata": {},
   "source": []
  },
  {
   "cell_type": "markdown",
   "metadata": {},
   "source": []
  }
 ],
 "metadata": {
  "kernelspec": {
   "display_name": "Python 2",
   "language": "python",
   "name": "python2"
  },
  "language_info": {
   "codemirror_mode": {
    "name": "ipython",
    "version": 2
   },
   "file_extension": ".py",
   "mimetype": "text/x-python",
   "name": "python",
   "nbconvert_exporter": "python",
   "pygments_lexer": "ipython2",
   "version": "2.7.13"
  }
 },
 "nbformat": 4,
 "nbformat_minor": 2
}
