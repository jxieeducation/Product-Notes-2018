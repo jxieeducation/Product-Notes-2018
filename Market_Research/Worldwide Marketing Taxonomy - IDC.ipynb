{
 "cells": [
  {
   "cell_type": "markdown",
   "metadata": {},
   "source": [
    "* intelligence \n",
    "    * customer intelligence\n",
    "    * competitive intelligence\n",
    "    * market intellignece\n",
    "* marketing technology\n",
    "    * content - authoring / publishing tools, content management systems (CMS), digital asset management (DAM)\n",
    "    * data & analytics - customer and biz intelligence, segmentation, predictive, social, web, database, data mgmt\n",
    "    * management and administration - collaboration\n",
    "    * interaction systems\n",
    "        * advertising (web, mobile, offline - display, social, search, local, retargeting, video)\n",
    "        * digital commerce (ecommerce, merchandising, mobile POS, catalogs, real time offers, social commerce)\n",
    "        * direct marketing (content marketing, email marketing, telemarketing, direct mail, SMS / text)\n",
    "        * enablement systems for sales reps and partners\n",
    "        * events (online and onsite)\n",
    "        * social (monitoring and publishing)\n",
    "        * website (web content mgmt, mobile web, SEO, video, chat...etc.)\n",
    "* product marketing - GTM and market positioning for specific products\n",
    "* social marketing\n",
    "    * social media listening\n",
    "    * social engagement\n",
    "    * social governance - compliance, rogue handles\n",
    "    * social intelligence and analytics\n",
    "* solution marketing\n",
    "    * GTM, positioning, strategy and messaging"
   ]
  },
  {
   "cell_type": "markdown",
   "metadata": {},
   "source": []
  },
  {
   "cell_type": "markdown",
   "metadata": {},
   "source": []
  },
  {
   "cell_type": "markdown",
   "metadata": {},
   "source": []
  },
  {
   "cell_type": "markdown",
   "metadata": {},
   "source": []
  },
  {
   "cell_type": "markdown",
   "metadata": {},
   "source": []
  }
 ],
 "metadata": {
  "kernelspec": {
   "display_name": "Python 2",
   "language": "python",
   "name": "python2"
  },
  "language_info": {
   "codemirror_mode": {
    "name": "ipython",
    "version": 2
   },
   "file_extension": ".py",
   "mimetype": "text/x-python",
   "name": "python",
   "nbconvert_exporter": "python",
   "pygments_lexer": "ipython2",
   "version": "2.7.13"
  }
 },
 "nbformat": 4,
 "nbformat_minor": 2
}
