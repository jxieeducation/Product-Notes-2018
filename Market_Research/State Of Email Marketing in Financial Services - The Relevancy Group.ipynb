{
 "cells": [
  {
   "cell_type": "markdown",
   "metadata": {},
   "source": [
    "* email marketing is important (51%, top channel)\n",
    "* on avg, about 33% of marketing budget\n",
    "* avg email team size - 3.4\n",
    "* top priorities:\n",
    "    * mobile rendering\n",
    "    * attribution accuracy\n",
    "    * relevancy via dynamic content (segmentation and targeting)\n",
    "    * improve transactional email msging capabilities\n",
    "    * improve segmentation and targeting"
   ]
  },
  {
   "cell_type": "markdown",
   "metadata": {},
   "source": [
    "* top challenges\n",
    "    * IT support and data integration\n",
    "    * coordination - campaigns, frequency, offers across channels\n",
    "    * automating messages and improving creatives\n",
    "    * staffing resources to mgm\n",
    "    * ability to automate campaigns\n",
    "    * lack of consolidated customer data\n",
    "* increasing trend to retarget in retail\n",
    "    * surpassing: testing, dynamic content..etc.\n",
    "    * martech and adtech"
   ]
  },
  {
   "cell_type": "markdown",
   "metadata": {},
   "source": [
    "* tactics used by financial services and email marketers\n",
    "    * mobile application\n",
    "    * adaptive content for email\n",
    "    * multi-variant testing\n",
    "    * video in email campaign\n",
    "* CRM-based ad targeting\n",
    "    * display targeting and retargeting using CRM - (customer data providers)\n",
    "    * social marketing targeting "
   ]
  },
  {
   "cell_type": "markdown",
   "metadata": {},
   "source": []
  },
  {
   "cell_type": "markdown",
   "metadata": {},
   "source": []
  }
 ],
 "metadata": {
  "kernelspec": {
   "display_name": "Python 2",
   "language": "python",
   "name": "python2"
  },
  "language_info": {
   "codemirror_mode": {
    "name": "ipython",
    "version": 2
   },
   "file_extension": ".py",
   "mimetype": "text/x-python",
   "name": "python",
   "nbconvert_exporter": "python",
   "pygments_lexer": "ipython2",
   "version": "2.7.13"
  }
 },
 "nbformat": 4,
 "nbformat_minor": 2
}
