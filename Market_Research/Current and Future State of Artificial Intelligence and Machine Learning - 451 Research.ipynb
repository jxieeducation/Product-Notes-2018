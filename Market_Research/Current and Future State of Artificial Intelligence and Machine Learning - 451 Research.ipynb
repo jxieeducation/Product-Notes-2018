{
 "cells": [
  {
   "cell_type": "markdown",
   "metadata": {},
   "source": [
    "* Amazon SageMaker, Google AutoML - check these out for APIs\n",
    "* application examples\n",
    "    * microservices analysis and mgmt (TO DO)\n",
    "    * information security (TO DO)\n",
    "    * supply chain mgmt (demand / supply forecast)\n",
    "* "
   ]
  },
  {
   "cell_type": "markdown",
   "metadata": {},
   "source": [
    "### financial services\n",
    "* a lot of RPA\n",
    "* AI-enabled compliance\n",
    "\n",
    "### healthcare\n",
    "* medical imaging\n",
    "* drug discovery\n",
    "\n",
    "### retail\n",
    "* operational effieicny \n",
    "* individualize recommendations\n",
    "* supply vhsin\n",
    "\n",
    "### manufacturing\n",
    "* robotics and process platform technologies\n",
    "* predictive maintenance\n",
    "\n",
    "### travel and hospitality\n",
    "* more personalized and contextual experiences (e.g. Taylor and hotel tech)\n",
    "* basic services automation\n",
    "\n",
    "### agriculture\n",
    "* disease identification, soil makeup, yield prediction"
   ]
  },
  {
   "cell_type": "markdown",
   "metadata": {},
   "source": []
  },
  {
   "cell_type": "markdown",
   "metadata": {},
   "source": []
  },
  {
   "cell_type": "markdown",
   "metadata": {},
   "source": []
  },
  {
   "cell_type": "markdown",
   "metadata": {},
   "source": []
  },
  {
   "cell_type": "markdown",
   "metadata": {},
   "source": []
  }
 ],
 "metadata": {
  "kernelspec": {
   "display_name": "Python 2",
   "language": "python",
   "name": "python2"
  },
  "language_info": {
   "codemirror_mode": {
    "name": "ipython",
    "version": 2
   },
   "file_extension": ".py",
   "mimetype": "text/x-python",
   "name": "python",
   "nbconvert_exporter": "python",
   "pygments_lexer": "ipython2",
   "version": "2.7.13"
  }
 },
 "nbformat": 4,
 "nbformat_minor": 2
}
