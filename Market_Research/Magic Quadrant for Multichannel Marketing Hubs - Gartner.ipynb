{
 "cells": [
  {
   "cell_type": "markdown",
   "metadata": {},
   "source": [
    "* multiple channels:\n",
    "    * websites\n",
    "    * mobile\n",
    "    * social\n",
    "    * direct mail\n",
    "    * call centers\n",
    "    * paid media\n",
    "    * email\n",
    "* basic functionality\n",
    "    * segmentation\n",
    "    * campaign\n",
    "    * message\n",
    "    * campaign workflow\n",
    "    * message execution\n",
    "* execution functionality\n",
    "    * personalization\n",
    "    * content mgmt\n",
    "    * event triggerring\n",
    "    * real time offer mgmt\n",
    "* analytics functionality\n",
    "    * customer level data, modeling, customer profile mgmt\n",
    "* digital marketing\n",
    "    * channels +POS terminals +digital signage +kiosks +IoT"
   ]
  },
  {
   "cell_type": "markdown",
   "metadata": {},
   "source": [
    "### AgilOne\n",
    "* customer data platform\n",
    "\n",
    "### Cheetah Digital\n",
    "* enterprise retail, media and financial sercvice"
   ]
  },
  {
   "cell_type": "markdown",
   "metadata": {},
   "source": []
  },
  {
   "cell_type": "markdown",
   "metadata": {},
   "source": []
  }
 ],
 "metadata": {
  "kernelspec": {
   "display_name": "Python 2",
   "language": "python",
   "name": "python2"
  },
  "language_info": {
   "codemirror_mode": {
    "name": "ipython",
    "version": 2
   },
   "file_extension": ".py",
   "mimetype": "text/x-python",
   "name": "python",
   "nbconvert_exporter": "python",
   "pygments_lexer": "ipython2",
   "version": "2.7.13"
  }
 },
 "nbformat": 4,
 "nbformat_minor": 2
}
