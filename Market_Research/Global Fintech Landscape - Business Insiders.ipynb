{
 "cells": [
  {
   "cell_type": "markdown",
   "metadata": {},
   "source": [
    "* Prospa - alt lender to smbs\n",
    "* Airwallex - cross border payments\n",
    "* ZipMoney - POS financing fintech\n",
    "* Ethereum FOundation - ether + platform\n",
    "* Xapo - bitcoin wallet\n",
    "* Lufax - online marketplace lender - https://www.lu.com/\n",
    "* ZhongAn - https://www.zhongan.com/ - online only insurer\n",
    "* BondIT - develop automation tools that help portfolio managers to build fixed-income portfolios\n",
    "* WealthSimple - digital wealth\n",
    "* Lendified - SMB lending"
   ]
  },
  {
   "cell_type": "markdown",
   "metadata": {},
   "source": []
  },
  {
   "cell_type": "markdown",
   "metadata": {},
   "source": []
  },
  {
   "cell_type": "markdown",
   "metadata": {},
   "source": []
  }
 ],
 "metadata": {
  "kernelspec": {
   "display_name": "Python 2",
   "language": "python",
   "name": "python2"
  },
  "language_info": {
   "codemirror_mode": {
    "name": "ipython",
    "version": 2
   },
   "file_extension": ".py",
   "mimetype": "text/x-python",
   "name": "python",
   "nbconvert_exporter": "python",
   "pygments_lexer": "ipython2",
   "version": "2.7.13"
  }
 },
 "nbformat": 4,
 "nbformat_minor": 2
}
