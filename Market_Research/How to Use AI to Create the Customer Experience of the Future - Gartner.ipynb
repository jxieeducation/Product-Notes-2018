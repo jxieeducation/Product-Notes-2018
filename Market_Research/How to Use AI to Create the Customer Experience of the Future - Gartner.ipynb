{
 "cells": [
  {
   "cell_type": "markdown",
   "metadata": {},
   "source": [
    "* Sales: AI tools offer white-space analysis for sales and can recommend immediate action on opportunities. They can also prioritize leads most likely to be converted and closed, offer account insights, generate forecasts and provide explanations. \n",
    "* Marketing: There are AI-powered solutions that allow marketing to generate highly personalized messages at scale that could not have been achieved using humans alone. \n",
    "* Customer service: The use of virtual customer assistants (VCAs) can help improve the customer experience as it reduces time to response and allows users to interact with your company through a text and/or voice conversational agent 24/365. "
   ]
  },
  {
   "cell_type": "markdown",
   "metadata": {},
   "source": [
    "Sense -> think -> do "
   ]
  },
  {
   "cell_type": "markdown",
   "metadata": {},
   "source": [
    "### How AI Can Help Boost Marketing Campaigns\n",
    "* Optimizing email and social media campaigns\n",
    "* Optimization and generation of content\n",
    "* Generating narrative articles at a massive scale\n",
    "* Generating personalized communication at scale, and reducing the need for writers"
   ]
  },
  {
   "cell_type": "markdown",
   "metadata": {},
   "source": [
    "### How AI Can Help Sales\n",
    "* Helps predict outcomes and recommends the next-best action\n",
    "* Offers white-space analysis and recommends immediate action on opportunities\n",
    "* Prioritizes leads most likely to convert and close\n",
    "* Offers account insights\n",
    "* Generates forecasts and offers explanations\n",
    "* Creates instant sales presentations"
   ]
  },
  {
   "cell_type": "markdown",
   "metadata": {},
   "source": []
  }
 ],
 "metadata": {
  "kernelspec": {
   "display_name": "Python 2",
   "language": "python",
   "name": "python2"
  },
  "language_info": {
   "codemirror_mode": {
    "name": "ipython",
    "version": 2
   },
   "file_extension": ".py",
   "mimetype": "text/x-python",
   "name": "python",
   "nbconvert_exporter": "python",
   "pygments_lexer": "ipython2",
   "version": "2.7.13"
  }
 },
 "nbformat": 4,
 "nbformat_minor": 2
}
